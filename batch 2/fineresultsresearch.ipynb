{
 "cells": [
  {
   "cell_type": "code",
   "execution_count": 1,
   "id": "cb17a28e",
   "metadata": {},
   "outputs": [],
   "source": [
    "#Not much info on eavh main page"
   ]
  },
  {
   "cell_type": "code",
   "execution_count": 2,
   "id": "11af2232",
   "metadata": {},
   "outputs": [],
   "source": [
    "url = 'http://www.fineresultsresearch.org/training/training-calendar'"
   ]
  },
  {
   "cell_type": "code",
   "execution_count": 3,
   "id": "41e2ec24",
   "metadata": {},
   "outputs": [],
   "source": [
    "# -*- coding: utf-8 -*-\n",
    "\"\"\"\n",
    "Created on Tue Feb  8 15:45:44 2022\n",
    "\n",
    "@author: ChewingGumKing_OJF\n",
    "\"\"\"\n",
    "\n",
    "#loads necessary libraries\n",
    "from selenium import webdriver\n",
    "import time\n",
    "from selenium.webdriver.common.keys import Keys \n",
    "from selenium.webdriver.common.action_chains import ActionChains\n",
    "from selenium.webdriver.common.keys import Keys\n",
    "import os\n",
    "from datetime import datetime\n",
    "from datetime import date\n",
    "import openpyxl\n",
    "#import pyautogui\n",
    "from selenium.webdriver.common.action_chains import ActionChains\n",
    "#import shutil\n",
    "#import glob\n",
    "import os\n",
    "import warnings\n",
    "#import itertools\n",
    "import json\n",
    "import pandas as pd\n",
    "import pyperclip as pc\n",
    "from bs4 import BeautifulSoup as bs\n",
    "import re\n",
    "from random import randint\n",
    "from selenium.common.exceptions import TimeoutException\n",
    "from selenium.webdriver.support.ui import WebDriverWait\n",
    "from selenium.webdriver.support import expected_conditions as EC\n",
    "from selenium.webdriver.common.by import By\n",
    "#import sys\n",
    "warnings.filterwarnings(\"ignore\")\n"
   ]
  },
  {
   "cell_type": "code",
   "execution_count": 4,
   "id": "47172246",
   "metadata": {},
   "outputs": [],
   "source": [
    "driver=webdriver.Chrome(r'C:\\Users\\840 g3\\Desktop\\chromedriver.exe')"
   ]
  },
  {
   "cell_type": "code",
   "execution_count": 5,
   "id": "440669cb",
   "metadata": {},
   "outputs": [],
   "source": [
    "driver.get(url)"
   ]
  },
  {
   "cell_type": "code",
   "execution_count": 6,
   "id": "2b32aea1",
   "metadata": {},
   "outputs": [],
   "source": [
    "soup = bs(driver.page_source,'lxml')"
   ]
  },
  {
   "cell_type": "code",
   "execution_count": 7,
   "id": "a5006904",
   "metadata": {},
   "outputs": [],
   "source": [
    "table = soup.find('table',{'id':'myTable'})"
   ]
  },
  {
   "cell_type": "code",
   "execution_count": 8,
   "id": "1f23cc62",
   "metadata": {},
   "outputs": [],
   "source": [
    "columns = [i.text for i in table.thead.find_all('th')[1:]]"
   ]
  },
  {
   "cell_type": "code",
   "execution_count": 10,
   "id": "ea1d1b9e",
   "metadata": {},
   "outputs": [],
   "source": [
    "body = table.tbody"
   ]
  },
  {
   "cell_type": "code",
   "execution_count": 11,
   "id": "54fb03cd",
   "metadata": {},
   "outputs": [],
   "source": [
    "tr = body.find_all('tr')"
   ]
  },
  {
   "cell_type": "code",
   "execution_count": 22,
   "id": "194891fa",
   "metadata": {},
   "outputs": [],
   "source": [
    "data = []\n",
    "for j in tr:\n",
    "    sue=j.find_all('td')\n",
    "    td = [k.text for k in [sue[2],sue[3],sue[5]]] + ['http://www.fineresultsresearch.org'+j.a['href']]\n",
    "    data.append(td)\n",
    "    "
   ]
  },
  {
   "cell_type": "code",
   "execution_count": null,
   "id": "372c9735",
   "metadata": {},
   "outputs": [],
   "source": [
    "fine=[]\n",
    "for ma in data:\n",
    "    link=ma[3]\n",
    "    ##\n",
    "    stu=[ma[0],ma[1]]\n",
    "    spl_dt_obj = [datetime.strptime(v, '%d/%m/%Y') for v in stu]\n",
    "    date_= [z.strftime('%Y-%m-%d') for z in spl_dt_obj]\n",
    "    start_date=date_[0]\n",
    "    end_date=date_[1]\n",
    "    ##\n",
    "    price=ma[2]\n",
    "    swim=re.search('\\$?\\£?\\€?\\W+[0-9]+\\W?[0-9]+',price).group().replace(',','')\n",
    "    if '$' in swim:\n",
    "        sia=swim.replace('$','').strip()\n",
    "        if int(sia)>0:\n",
    "            ty='paid'\n",
    "                am=sia\n",
    "                cu='$'\n",
    "        else:\n",
    "            ty='free'\n",
    "            am=''\n",
    "            cu=''\n",
    "    elif '£' in swim:\n",
    "        sia=swim.replace('£','').strip() \n",
    "        if int(sia)>0:\n",
    "            ty='paid'\n",
    "            am=sia\n",
    "            cu='£'\n",
    "        else:\n",
    "            ty='free'\n",
    "            am=''\n",
    "            cu=''\n",
    "    \n",
    "    elif '€' in swim:\n",
    "        sia=swim.replace('€','').strip()\n",
    "        if int(sia)>0:\n",
    "            ty='paid'\n",
    "            am=sia\n",
    "            cu='€'\n",
    "        else:\n",
    "            ty='free'\n",
    "            am=''\n",
    "            cu=''\n",
    "            \n",
    "    else:\n",
    "        ty=''\n",
    "        am=''\n",
    "        cu=''\n",
    "    if ty=='':\n",
    "        ticketlist=''\n",
    "    else:\n",
    "        ticketlist={'type': ty,\n",
    "                     'price':am,\n",
    "                     'currency': cu}\n",
    "    if ticketlist=='':\n",
    "        ticket_list=ticketlist\n",
    "    else:\n",
    "        ticket_list=json.dumps(ticketlist)\n",
    "        \n",
    "    ##\n",
    "\n",
    "    driver.get(link)\n",
    "    soupn = bs(driver.page_source,'lxml')\n",
    "    title=soupn.find('header',{'class':'section-header'}).text.replace('\\n','').strip()\n",
    "    mass=soupn.find('div',{'class':'top-area'}).find_all('div',{'class':re.compile('col-sm-6 col-md.+')})[-2].text.replace('\\n','').strip()\n",
    "    sheep=soupn.find('div',{'style':re.compile('overflow.+')}).find_all('p')\n",
    "    for idx,ia in enumerate(sheep):\n",
    "        if ia.text.replace('\\xa0','').strip()=='Introduction' or ia.text.replace('\\xa0','').strip()=='INTRODUCTION':\n",
    "            info=sheep[idx+1].text.replace('\\xa0\\xa0',' ').replace('\\xa0','')\n",
    "\n",
    "    mail_=json.dumps(mass)\n",
    "    time_=''\n",
    "    event_info=info\n",
    "\n",
    "    org_pro='FineResults Research Services offers training solutions to individuals, communities, governments and civil society organizations, both local and international.'\n",
    "    org_name='Fineresults Research'\n",
    "    org_web='http://www.fineresultsresearch.org/'\n",
    "#    ticket_list=''\n",
    "    logo=''\n",
    "    sponsors=''\n",
    "    agendalist=''\n",
    "    type_=''\n",
    "    category=''\n",
    "    Speakerlist=''\n",
    "    on_off='1'\n",
    "    city=''\n",
    "    venue=''\n",
    "    country=''\n",
    "    googlePlaceUrl=''\n",
    "    event_web=link\n",
    "    fine.append([link,title,start_date,end_date,time_,event_info,ticket_list,\n",
    "                     org_pro,org_name,org_web,logo,sponsors,agendalist,\n",
    "                     type_,category,city,country,venue,event_web,googlePlaceUrl,mail_,\n",
    "                     Speakerlist,on_off])"
   ]
  },
  {
   "cell_type": "code",
   "execution_count": null,
   "id": "8f55e2d8",
   "metadata": {},
   "outputs": [],
   "source": []
  },
  {
   "cell_type": "code",
   "execution_count": null,
   "id": "354b3217",
   "metadata": {},
   "outputs": [],
   "source": [
    "fine_dict=fine\n",
    "\n",
    "\n",
    "fine_df= pd.DataFrame(columns=['scrappedUrl','eventname','startdate','enddate','timing','eventinfo','ticketlist','orgProfile','orgName','orgWeb','logo','sponsor','agendalist','type','category','city','country','venue','event_website','googlePlaceUrl','ContactMail','Speakerlist','online_event'],data=fine_dict)\n",
    "fine_df.to_csv(\"fine.tsv\", sep = '\\t',index=False)\n"
   ]
  },
  {
   "cell_type": "code",
   "execution_count": null,
   "id": "8ec040b0",
   "metadata": {},
   "outputs": [],
   "source": []
  },
  {
   "cell_type": "code",
   "execution_count": null,
   "id": "bc435b0d",
   "metadata": {},
   "outputs": [],
   "source": []
  }
 ],
 "metadata": {
  "kernelspec": {
   "display_name": "Python 3 (ipykernel)",
   "language": "python",
   "name": "python3"
  },
  "language_info": {
   "codemirror_mode": {
    "name": "ipython",
    "version": 3
   },
   "file_extension": ".py",
   "mimetype": "text/x-python",
   "name": "python",
   "nbconvert_exporter": "python",
   "pygments_lexer": "ipython3",
   "version": "3.9.7"
  }
 },
 "nbformat": 4,
 "nbformat_minor": 5
}
