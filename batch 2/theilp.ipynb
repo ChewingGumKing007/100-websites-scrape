{
 "cells": [
  {
   "cell_type": "code",
   "execution_count": 1,
   "id": "e0b2cbe8",
   "metadata": {},
   "outputs": [],
   "source": [
    "# -*- coding: utf-8 -*-\n",
    "\"\"\"\n",
    "Created on Tue Feb  8 15:45:44 2022\n",
    "\n",
    "@author: ChewingGumKing_OJF\n",
    "\"\"\"\n",
    "\n",
    "#loads necessary libraries\n",
    "from selenium import webdriver\n",
    "import time\n",
    "from selenium.webdriver.common.keys import Keys \n",
    "from selenium.webdriver.common.action_chains import ActionChains\n",
    "from selenium.webdriver.common.keys import Keys\n",
    "import os\n",
    "from datetime import datetime\n",
    "from datetime import date\n",
    "import openpyxl\n",
    "#import pyautogui\n",
    "from selenium.webdriver.common.action_chains import ActionChains\n",
    "#import shutil\n",
    "#import glob\n",
    "import os\n",
    "import warnings\n",
    "#import itertools\n",
    "import json\n",
    "import pandas as pd\n",
    "import pyperclip as pc\n",
    "from bs4 import BeautifulSoup as bs\n",
    "import re\n",
    "from random import randint\n",
    "from selenium.common.exceptions import TimeoutException\n",
    "from selenium.webdriver.support.ui import WebDriverWait\n",
    "from selenium.webdriver.support import expected_conditions as EC\n",
    "from selenium.webdriver.common.by import By\n",
    "#import sys\n",
    "warnings.filterwarnings(\"ignore\")\n"
   ]
  },
  {
   "cell_type": "code",
   "execution_count": 3,
   "id": "b21cd06f",
   "metadata": {},
   "outputs": [],
   "source": [
    "driver=webdriver.Chrome(r'C:\\Users\\840 g3\\Desktop\\chromedriver.exe')"
   ]
  },
  {
   "cell_type": "code",
   "execution_count": 6,
   "id": "c0d7c947",
   "metadata": {},
   "outputs": [],
   "source": [
    "url = \"https://theilp.org.uk/events/\""
   ]
  },
  {
   "cell_type": "code",
   "execution_count": 7,
   "id": "3b9a0fd7",
   "metadata": {},
   "outputs": [],
   "source": [
    "driver.get(url)"
   ]
  },
  {
   "cell_type": "code",
   "execution_count": 367,
   "id": "e1a1fd55",
   "metadata": {},
   "outputs": [],
   "source": [
    "soup = bs(driver.page_source,'lxml')"
   ]
  },
  {
   "cell_type": "code",
   "execution_count": 368,
   "id": "0b1083e3",
   "metadata": {},
   "outputs": [],
   "source": [
    "div = \"ect-events-list-content\" #class"
   ]
  },
  {
   "cell_type": "code",
   "execution_count": 369,
   "id": "cd945d9c",
   "metadata": {},
   "outputs": [],
   "source": [
    "section = soup.find('div',{'id':div})"
   ]
  },
  {
   "cell_type": "code",
   "execution_count": 370,
   "id": "d4ee7c88",
   "metadata": {},
   "outputs": [],
   "source": [
    "each = section.find_all('div',{'class':'ect-list-post style-1 ect-simple-event future'})"
   ]
  },
  {
   "cell_type": "code",
   "execution_count": 355,
   "id": "aa58c6f0",
   "metadata": {},
   "outputs": [
    {
     "name": "stdout",
     "output_type": "stream",
     "text": [
      "aaa\n",
      "uiuh\n",
      "aaa\n",
      "uiuh\n",
      "bbb\n",
      "aaa\n",
      "uiuh\n",
      "bbb\n",
      "aaa\n",
      "schs\n",
      "aaa\n",
      "schs\n",
      "aaa\n",
      "uiuh\n",
      "aaa\n",
      "schs\n",
      "aaa\n",
      "schs\n",
      "aaa\n",
      "schs\n",
      "Done\n"
     ]
    }
   ],
   "source": [
    "theilp=[]\n",
    "sidebar = \"epta-sidebar-area\" #div class\n",
    "venue = \"tribe-events-meta-group tribe-events-meta-group-venue\" #div class\n",
    "cost = \"tribe-events-event-cost\"#dd class\n",
    "event_url ='tribe-events-event-url' #dd clas\n",
    "email = \"tribe-organizer-email\" #dd class\n",
    "for i in each:\n",
    "\n",
    "    try:\n",
    "        ven = i.find('div',{'class':'ect-list-venue default-venue'}).text.replace('\\n\\n',' ').replace('\\n',' ').split('+')[0].strip()\n",
    "    except:\n",
    "        ven='Hosted Online'\n",
    "        \n",
    "    \n",
    "    try:\n",
    "        cost = i.find('div',{'class':'ect-rate-area'}).text.replace('\\t','').replace('\\n','')\n",
    "    except:\n",
    "        cost=''\n",
    "    if cost=='':\n",
    "        ticketlist=''\n",
    "    elif cost=='Free':\n",
    "        ty='Free'\n",
    "        am=''\n",
    "        cu=''\n",
    "        ticketlist={'type': ty,\n",
    "                     'price':am,\n",
    "                     'currency': cu}\n",
    "    elif '-' in cost:\n",
    "        price=cost.split('-')[0][1:].replace(',','')\n",
    "        ty='Paid'\n",
    "        am=price\n",
    "        cu=cost[0]\n",
    "        ticketlist={'type': ty,\n",
    "                     'price':am,\n",
    "                     'currency': cu}\n",
    "        \n",
    "    else:\n",
    "        ticketlist=''\n",
    "    \n",
    "    if ticketlist=='':\n",
    "        ticket_list=ticketlist\n",
    "    else:\n",
    "        ticket_list=json.dumps(ticketlist)\n",
    "    \n",
    "    topic = i.h2.text.replace('\\t','').replace('\\n','')\n",
    "    link = i.a['href']\n",
    "#    data.append([topic,ven,cost,link])\n",
    "\n",
    "\n",
    "    driver.get(link)\n",
    "    time.sleep(10)\n",
    "    soupn = bs(driver.page_source,'lxml')\n",
    "\n",
    "    sidebar_ = soupn.find('div',{'class':sidebar})\n",
    "    if str(sidebar_)!='None':\n",
    "      #  print('aaa')\n",
    "        try:\n",
    "            address = sidebar_.find('div',{'class':\"tribe-events-meta-group tribe-events-meta-group-venue\"}).text.replace('Venue','').replace('\\n\\n\\n','').replace('\\n',' ').split('+')[0].strip()\n",
    "\n",
    "        except:\n",
    "            address = 'NA'\n",
    "        try:\n",
    "            web = sidebar_.find('dd',{'class':event_url}).text.strip()\n",
    "            if len(url)<=5:\n",
    "                web=link\n",
    "        except:\n",
    "            web = link\n",
    "        try:\n",
    "            email = sidebar_.find('dd',{'class':email}).text.strip()\n",
    "            if len(email)<=5:\n",
    "                email='NA'\n",
    "        except:\n",
    "            email = 'NA'\n",
    "            \n",
    "        #***********\n",
    "        sidebar_ = soupn.find('div',{'class':'epta-sidebar-area'})\n",
    "        sure=sidebar_.find('div',{'class':'tribe-events-meta-group tribe-events-meta-group-details'})\n",
    "        title=soupn.find('div',{'class':'epta-title-date'}).h2.text.replace('\\n','').replace('\\t','')\n",
    "        if 'Start' and 'End' in str(sure):\n",
    "          #  print('schs')\n",
    "            sak=sure.find_all('dd')[:2]\n",
    "            siuu=[a.text.replace('\\n','').replace('\\t','').split('@') for a in sak]\n",
    "            start,end=siuu\n",
    "            yr=str(date.today().year)\n",
    "            start=[[a.strip() for a in start][0]+' '+yr,[a.strip() for a in start][1].replace(' ','').replace('pm','PM').replace('am','AM')]\n",
    "            end=[[a.strip() for a in end][0]+' '+yr,[a.strip() for a in end][1].replace(' ','').replace('pm','PM').replace('am','AM')]\n",
    "            dat=[start[0],end[0]]\n",
    "#            dat=[a.replace('st','').replace('nd','').replace('rd','').replace('th','').replace('Augu','August')]\n",
    "            tim=[start[1],end[1],'']\n",
    "\n",
    "            #siuu=[a.text.replace('\\n','') for a in sak]\n",
    "        elif 'Date' in str(sure):\n",
    "           # print('uiuh')\n",
    "            sak=sure.find_all('dd')[:2]\n",
    "            siuu=[a.text.replace('\\n','').replace('\\t','').strip() for a in sak]\n",
    "            yr=str(date.today().year)\n",
    "            dat,tim=siuu\n",
    "            if not re.search('\\d{4}',dat):\n",
    "                dat=[dat+' '+yr,dat+' '+yr]\n",
    "#                dat=[a.replace('st','').replace('nd','').replace('rd','').replace('th','').replace('Augu','August')]\n",
    "                tim=tim.replace(' ','').replace('pm','PM').replace('am','AM').split('-')+['']# for a in tim]\n",
    "        else:\n",
    "            title=topic\n",
    "            dat=''\n",
    "            tim=''\n",
    "    else:\n",
    "       # print('bbb')\n",
    "        noside=soupn.find('div',{'class':'tribe-events-single tribe-blocks-editor'})\n",
    "        title=noside.find('h1',{'class':'tribe-events-single-event-title'}).text\n",
    "        timer=noside.find('h2',{'class':'tribe-events-schedule__datetime'}).get_text(separator='').replace('\\t','').replace('\\n','').replace('–','-').split('-')\n",
    "        shi=[a.split('@') for a in timer]\n",
    "        start,end=shi\n",
    "        yr=str(date.today().year)\n",
    "        start=[[a.strip() for a in start][0]+' '+yr,[a.strip() for a in start][1].replace(' ','').replace('pm','PM').replace('am','AM')]\n",
    "        end=[[a.strip() for a in end][0]+' '+yr,[a.strip() for a in end][1].replace(' ','').replace('pm','PM').replace('am','AM')]\n",
    "        if not re.search('\\d{4}',start[0]) and re.search('\\d{4}',start[1]):\n",
    "            dat=[start[0],end[0]]\n",
    "#            dat=[a.replace('st','').replace('nd','').replace('rd','').replace('th','').replace('Augu','August')]\n",
    "            tim=[start[1],end[1],'']\n",
    "        else:\n",
    "            dat=''\n",
    "            tim=''\n",
    "        address=''\n",
    "        web=link\n",
    "        email=''\n",
    "        \n",
    "    #**************************\n",
    "    if dat=='':\n",
    "        start_date=end_date=''\n",
    "    else:\n",
    "        dat=[a.replace('st','').replace('nd','').replace('rd','').replace('th','').replace('Augu','August') for a in dat]\n",
    "        spl_dt_obj = [datetime.strptime(v, '%d %B %Y') for v in dat]\n",
    "        date_= [z.strftime('%Y-%m-%d') for z in spl_dt_obj]\n",
    "        start_date=date_[0]\n",
    "        end_date=date_[1]\n",
    "        \n",
    "    if tim=='':\n",
    "        time_st=''\n",
    "    else:\n",
    "        time_st={'type': 'general',\n",
    "                 'start_time':tim[0],\n",
    "                 'end_time': tim[1],\n",
    "                 'timezone': tim[2],\n",
    "                 'days': 'all'}\n",
    "    if email=='' or email=='NA':\n",
    "        mail=' info@theilp.org.uk'\n",
    "        mail_=json.dumps(mail)\n",
    "    else:\n",
    "        mail_=json.dumps(email)\n",
    "    if time_st=='':\n",
    "        time_=''\n",
    "    else:\n",
    "        time=json.dumps(time_st)\n",
    "    event_web=web\n",
    "    \n",
    "     ###############COUNTYR,GPU#################\n",
    "    def country(locale):\n",
    "        try:\n",
    "            google_url_for_location=\"https://www.google.com/search?q=\"+locale+\"&oq=\"+locale+\"&num=1\"\n",
    "            time.sleep(randint(0,3))\n",
    "            driver.get(google_url_for_location)\n",
    "            time.sleep(4)\n",
    "            google_map_url=driver.find_element_by_id('lu_map').click()\n",
    "            time.sleep(1)\n",
    "            country=driver.find_element_by_class_name('x3AX1-LfntMc-header-title-VdSJob').text\n",
    "            return(country)\n",
    "        except Exception as e:\n",
    "            print(e)\n",
    "            return(\"\")\n",
    "\n",
    "    ####################################\n",
    "    def get_google_map_url(location):\n",
    "        try:\n",
    "            google_url_for_location=\"https://www.google.com/search?q=\"+location+\"&oq=\"+location+\"&num=1\"\n",
    "            time.sleep(randint(0,3))\n",
    "            driver.get(google_url_for_location)\n",
    "            time.sleep(4)\n",
    "            google_map_url=driver.find_element_by_id('lu_map').click()\n",
    "            time.sleep(1)\n",
    "            google_map_url=driver.current_url\n",
    "            return(google_map_url)\n",
    "        except Exception as e:\n",
    "            print(e)\n",
    "            return(\"\")\n",
    "\n",
    "    \n",
    "    if 'Online' in ven:\n",
    "        on_off='1'\n",
    "        city=''\n",
    "        country=''\n",
    "        venue=''\n",
    "        googlePlaceUrl=''\n",
    "    else:\n",
    "        on_off='0'\n",
    "        city=ven\n",
    "        venue=ven\n",
    "        country=country(city)\n",
    "        googlePlaceUrl=get_google_map_url(venue)\n",
    "        \n",
    "        \n",
    "    org_pro=''\n",
    "    org_name='Institution of Lighting Professionals'\n",
    "    org_web='https://theilp.org.uk/'\n",
    "    \n",
    "    event_info=''    \n",
    "    logo=''\n",
    "    sponsors=''\n",
    "    agendalist=''\n",
    "    type_=''\n",
    "    category=''\n",
    "    Speakerlist=''\n",
    "    \n",
    "    theilp.append([link,title,start_date,end_date,time_,event_info,ticket_list,\n",
    "                     org_pro,org_name,org_web,logo,sponsors,agendalist,\n",
    "                     type_,category,city,country,venue,event_web,googlePlaceUrl,mail_,\n",
    "                     Speakerlist,on_off])\n",
    "print('Done')"
   ]
  },
  {
   "cell_type": "code",
   "execution_count": null,
   "id": "95073052",
   "metadata": {},
   "outputs": [],
   "source": []
  },
  {
   "cell_type": "code",
   "execution_count": null,
   "id": "fa39b015",
   "metadata": {},
   "outputs": [],
   "source": [
    "theilp_dict=theilp\n",
    "\n",
    "\n",
    "theilp_df= pd.DataFrame(columns=['scrappedUrl','eventname','startdate','enddate','timing','eventinfo','ticketlist','orgProfile','orgName','orgWeb','logo','sponsor','agendalist','type','category','city','country','venue','event_website','googlePlaceUrl','ContactMail','Speakerlist','online_event'],data=theilp_dict)\n",
    "theilp_df.to_csv(\"theilp.tsv\", sep = '\\t',index=False)\n"
   ]
  },
  {
   "cell_type": "code",
   "execution_count": null,
   "id": "165f55e0",
   "metadata": {},
   "outputs": [],
   "source": []
  },
  {
   "cell_type": "code",
   "execution_count": 350,
   "id": "de3cea96",
   "metadata": {},
   "outputs": [
    {
     "data": {
      "text/plain": [
       "('2022-04-25',\n",
       " '2022-04-25',\n",
       " {'type': 'general',\n",
       "  'start_time': '1:00PM',\n",
       "  'end_time': '3:00PM',\n",
       "  'timezone': '',\n",
       "  'days': 'all'},\n",
       " 'NA',\n",
       " 'https://www.eventbrite.co.uk/e/hi-lights-from-the-ilp-tickets-256708832027',\n",
       " 'NA')"
      ]
     },
     "execution_count": 350,
     "metadata": {},
     "output_type": "execute_result"
    }
   ],
   "source": [
    "# start_date,end_date,time_st,address,web,email"
   ]
  },
  {
   "cell_type": "code",
   "execution_count": 110,
   "id": "a2b920a2",
   "metadata": {},
   "outputs": [
    {
     "data": {
      "text/plain": [
       "'https://theilp.org.uk/event/ilp-exterior-lighting-diploma-module-a-autumn-2022/'"
      ]
     },
     "execution_count": 110,
     "metadata": {},
     "output_type": "execute_result"
    }
   ],
   "source": [
    "# driver.current_url"
   ]
  },
  {
   "cell_type": "code",
   "execution_count": 293,
   "id": "90ad7447",
   "metadata": {},
   "outputs": [
    {
     "ename": "AttributeError",
     "evalue": "'NoneType' object has no attribute 'find'",
     "output_type": "error",
     "traceback": [
      "\u001b[1;31m---------------------------------------------------------------------------\u001b[0m",
      "\u001b[1;31mAttributeError\u001b[0m                            Traceback (most recent call last)",
      "\u001b[1;32mC:\\Users\\840G3~1\\AppData\\Local\\Temp/ipykernel_8316/3171645658.py\u001b[0m in \u001b[0;36m<module>\u001b[1;34m\u001b[0m\n\u001b[0;32m      1\u001b[0m \u001b[0msoupn\u001b[0m \u001b[1;33m=\u001b[0m \u001b[0mbs\u001b[0m\u001b[1;33m(\u001b[0m\u001b[0mdriver\u001b[0m\u001b[1;33m.\u001b[0m\u001b[0mpage_source\u001b[0m\u001b[1;33m,\u001b[0m\u001b[1;34m'lxml'\u001b[0m\u001b[1;33m)\u001b[0m\u001b[1;33m\u001b[0m\u001b[1;33m\u001b[0m\u001b[0m\n\u001b[0;32m      2\u001b[0m \u001b[0mnoside\u001b[0m\u001b[1;33m=\u001b[0m\u001b[0msoupn\u001b[0m\u001b[1;33m.\u001b[0m\u001b[0mfind\u001b[0m\u001b[1;33m(\u001b[0m\u001b[1;34m'div'\u001b[0m\u001b[1;33m,\u001b[0m\u001b[1;33m{\u001b[0m\u001b[1;34m'class'\u001b[0m\u001b[1;33m:\u001b[0m\u001b[1;34m'tribe-events-single tribe-blocks-editor'\u001b[0m\u001b[1;33m}\u001b[0m\u001b[1;33m)\u001b[0m\u001b[1;33m\u001b[0m\u001b[1;33m\u001b[0m\u001b[0m\n\u001b[1;32m----> 3\u001b[1;33m \u001b[0mtitle\u001b[0m\u001b[1;33m=\u001b[0m\u001b[0mnoside\u001b[0m\u001b[1;33m.\u001b[0m\u001b[0mfind\u001b[0m\u001b[1;33m(\u001b[0m\u001b[1;34m'h1'\u001b[0m\u001b[1;33m,\u001b[0m\u001b[1;33m{\u001b[0m\u001b[1;34m'class'\u001b[0m\u001b[1;33m:\u001b[0m\u001b[1;34m'tribe-events-single-event-title'\u001b[0m\u001b[1;33m}\u001b[0m\u001b[1;33m)\u001b[0m\u001b[1;33m.\u001b[0m\u001b[0mtext\u001b[0m\u001b[1;33m\u001b[0m\u001b[1;33m\u001b[0m\u001b[0m\n\u001b[0m\u001b[0;32m      4\u001b[0m \u001b[0mtimer\u001b[0m\u001b[1;33m=\u001b[0m\u001b[0mnoside\u001b[0m\u001b[1;33m.\u001b[0m\u001b[0mfind\u001b[0m\u001b[1;33m(\u001b[0m\u001b[1;34m'h2'\u001b[0m\u001b[1;33m,\u001b[0m\u001b[1;33m{\u001b[0m\u001b[1;34m'class'\u001b[0m\u001b[1;33m:\u001b[0m\u001b[1;34m'tribe-events-schedule__datetime'\u001b[0m\u001b[1;33m}\u001b[0m\u001b[1;33m)\u001b[0m\u001b[1;33m.\u001b[0m\u001b[0mget_text\u001b[0m\u001b[1;33m(\u001b[0m\u001b[0mseparator\u001b[0m\u001b[1;33m=\u001b[0m\u001b[1;34m''\u001b[0m\u001b[1;33m)\u001b[0m\u001b[1;33m.\u001b[0m\u001b[0mreplace\u001b[0m\u001b[1;33m(\u001b[0m\u001b[1;34m'\\t'\u001b[0m\u001b[1;33m,\u001b[0m\u001b[1;34m''\u001b[0m\u001b[1;33m)\u001b[0m\u001b[1;33m.\u001b[0m\u001b[0mreplace\u001b[0m\u001b[1;33m(\u001b[0m\u001b[1;34m'\\n'\u001b[0m\u001b[1;33m,\u001b[0m\u001b[1;34m''\u001b[0m\u001b[1;33m)\u001b[0m\u001b[1;33m.\u001b[0m\u001b[0mreplace\u001b[0m\u001b[1;33m(\u001b[0m\u001b[1;34m'–'\u001b[0m\u001b[1;33m,\u001b[0m\u001b[1;34m'-'\u001b[0m\u001b[1;33m)\u001b[0m\u001b[1;33m.\u001b[0m\u001b[0msplit\u001b[0m\u001b[1;33m(\u001b[0m\u001b[1;34m'-'\u001b[0m\u001b[1;33m)\u001b[0m\u001b[1;33m\u001b[0m\u001b[1;33m\u001b[0m\u001b[0m\n\u001b[0;32m      5\u001b[0m \u001b[0mshi\u001b[0m\u001b[1;33m=\u001b[0m\u001b[1;33m[\u001b[0m\u001b[0ma\u001b[0m\u001b[1;33m.\u001b[0m\u001b[0msplit\u001b[0m\u001b[1;33m(\u001b[0m\u001b[1;34m'@'\u001b[0m\u001b[1;33m)\u001b[0m \u001b[1;32mfor\u001b[0m \u001b[0ma\u001b[0m \u001b[1;32min\u001b[0m \u001b[0mtimer\u001b[0m\u001b[1;33m]\u001b[0m\u001b[1;33m\u001b[0m\u001b[1;33m\u001b[0m\u001b[0m\n",
      "\u001b[1;31mAttributeError\u001b[0m: 'NoneType' object has no attribute 'find'"
     ]
    }
   ],
   "source": [
    "# soupn = bs(driver.page_source,'lxml')\n",
    "# noside=soupn.find('div',{'class':'tribe-events-single tribe-blocks-editor'})\n",
    "# title=noside.find('h1',{'class':'tribe-events-single-event-title'}).text\n",
    "# timer=noside.find('h2',{'class':'tribe-events-schedule__datetime'}).get_text(separator='').replace('\\t','').replace('\\n','').replace('–','-').split('-')\n",
    "# shi=[a.split('@') for a in timer]\n",
    "# start,end=shi\n",
    "# yr=str(date.today().year)\n",
    "# start=[[a.strip() for a in start][0]+' '+yr,[a.strip() for a in start][1].replace(' ','').replace('pm','PM').replace('am','AM')]\n",
    "# end=[[a.strip() for a in end][0]+' '+yr,[a.strip() for a in end][1].replace(' ','').replace('pm','PM').replace('am','AM')]\n",
    "# if not re.search('\\d{4}',start[0]) and re.search('\\d{4}',start[1]):\n",
    "#     dat=[start[0],end[0]]\n",
    "#     tim=[start[1],end[1],'']"
   ]
  },
  {
   "cell_type": "code",
   "execution_count": 144,
   "id": "fc37e1cc",
   "metadata": {},
   "outputs": [
    {
     "data": {
      "text/plain": [
       "(['24th May 2022', '26th May 2022'], ['10:00AM', '5:00PM', ''])"
      ]
     },
     "execution_count": 144,
     "metadata": {},
     "output_type": "execute_result"
    }
   ],
   "source": [
    "# dat,tim"
   ]
  },
  {
   "cell_type": "code",
   "execution_count": 315,
   "id": "82b55f26",
   "metadata": {},
   "outputs": [],
   "source": [
    "# soupn = bs(driver.page_source,'lxml')\n",
    "# sidebar_ = soupn.find('div',{'class':'epta-sidebar-area'})\n",
    "# sure=sidebar_.find('div',{'class':'tribe-events-meta-group tribe-events-meta-group-details'})\n",
    "# title=soupn.find('div',{'class':'epta-title-date'}).h2.text.replace('\\n','').replace('\\t','')\n",
    "# if 'Start' and 'End' in str(sure):\n",
    "#     sak=sure.find_all('dd')[:2]\n",
    "#     siuu=[a.text.replace('\\n','').replace('\\t','').split('@') for a in sak]\n",
    "#     start,end=siuu\n",
    "#     yr=str(date.today().year)\n",
    "#     start=[[a.strip() for a in start][0]+' '+yr,[a.strip() for a in start][1].replace(' ','').replace('pm','PM').replace('am','AM')]\n",
    "#     end=[[a.strip() for a in end][0]+' '+yr,[a.strip() for a in end][1].replace(' ','').replace('pm','PM').replace('am','AM')]\n",
    "#     dat=[start[0],end[0]]\n",
    "#     tim=[start[1],end[1],'']\n",
    "    \n",
    "#     #siuu=[a.text.replace('\\n','') for a in sak]\n",
    "# elif 'Date' in str(sure):\n",
    "#     sak=sure.find_all('dd')[:2]\n",
    "#     siuu=[a.text.replace('\\n','').replace('\\t','').strip() for a in sak]\n",
    "#     yr=str(date.today().year)\n",
    "#     dat,tim=siuu\n",
    "#     if not re.search('\\d{4}',dat):\n",
    "#         dat=[dat+' '+yr,dat+' '+yr]\n",
    "#         tim=tim.replace(' ','').replace('pm','PM').replace('am','AM').split('-')+['']# for a in tim]\n",
    "# else:\n",
    "#     title=''\n",
    "#     dat=''\n",
    "#     tim=''"
   ]
  }
 ],
 "metadata": {
  "kernelspec": {
   "display_name": "Python 3 (ipykernel)",
   "language": "python",
   "name": "python3"
  },
  "language_info": {
   "codemirror_mode": {
    "name": "ipython",
    "version": 3
   },
   "file_extension": ".py",
   "mimetype": "text/x-python",
   "name": "python",
   "nbconvert_exporter": "python",
   "pygments_lexer": "ipython3",
   "version": "3.9.7"
  }
 },
 "nbformat": 4,
 "nbformat_minor": 5
}
