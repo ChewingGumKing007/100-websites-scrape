{
 "cells": [
  {
   "cell_type": "code",
   "execution_count": 1,
   "id": "1815826a",
   "metadata": {},
   "outputs": [],
   "source": [
    "url = 'https://www.soci.org/events'"
   ]
  },
  {
   "cell_type": "code",
   "execution_count": 2,
   "id": "2e919f17",
   "metadata": {},
   "outputs": [],
   "source": [
    "from selenium import webdriver\n",
    "import pandas as pd\n",
    "from bs4 import BeautifulSoup as bs\n",
    "import time"
   ]
  },
  {
   "cell_type": "code",
   "execution_count": 3,
   "id": "f717179d",
   "metadata": {},
   "outputs": [
    {
     "name": "stderr",
     "output_type": "stream",
     "text": [
      "C:\\Users\\DELL\\AppData\\Local\\Temp/ipykernel_13920/4221860842.py:1: DeprecationWarning: executable_path has been deprecated, please pass in a Service object\n",
      "  driver = webdriver.Edge(r'C:\\Users\\DELL\\Documents\\msedgedriver.exe')\n"
     ]
    }
   ],
   "source": [
    "driver = webdriver.Edge(r'C:\\Users\\DELL\\Documents\\msedgedriver.exe')"
   ]
  },
  {
   "cell_type": "code",
   "execution_count": 4,
   "id": "68d843ab",
   "metadata": {},
   "outputs": [],
   "source": [
    "driver.get(url)"
   ]
  },
  {
   "cell_type": "code",
   "execution_count": 5,
   "id": "5f8a0760",
   "metadata": {},
   "outputs": [],
   "source": [
    "show_more_xpath = 'events-showmorebtn'"
   ]
  },
  {
   "cell_type": "code",
   "execution_count": 10,
   "id": "cb0d0bd9",
   "metadata": {},
   "outputs": [
    {
     "name": "stderr",
     "output_type": "stream",
     "text": [
      "C:\\Users\\DELL\\AppData\\Local\\Temp/ipykernel_13920/1202237563.py:3: DeprecationWarning: find_element_by_* commands are deprecated. Please use find_element() instead\n",
      "  driver.find_element_by_id(show_more_xpath).click()\n"
     ]
    }
   ],
   "source": [
    "while True:\n",
    "    try:    \n",
    "        driver.find_element_by_id(show_more_xpath).click()\n",
    "    except:\n",
    "        break"
   ]
  },
  {
   "cell_type": "code",
   "execution_count": null,
   "id": "0bf377b8",
   "metadata": {},
   "outputs": [],
   "source": []
  },
  {
   "cell_type": "code",
   "execution_count": 11,
   "id": "420552a5",
   "metadata": {},
   "outputs": [],
   "source": [
    "soup = bs(driver.page_source,'lxml')"
   ]
  },
  {
   "cell_type": "code",
   "execution_count": 15,
   "id": "c98d8f39",
   "metadata": {},
   "outputs": [],
   "source": [
    "section = soup.find('section',{'class':'panel-item-list grid-container'})"
   ]
  },
  {
   "cell_type": "code",
   "execution_count": 20,
   "id": "0b7fe179",
   "metadata": {},
   "outputs": [],
   "source": [
    "cell = section.find('div',{'class':'cell'})"
   ]
  },
  {
   "cell_type": "code",
   "execution_count": 22,
   "id": "a75b2962",
   "metadata": {},
   "outputs": [],
   "source": [
    "cells = cell.find_all('div',{'class':'cell'})"
   ]
  },
  {
   "cell_type": "code",
   "execution_count": 33,
   "id": "666f302e",
   "metadata": {},
   "outputs": [],
   "source": [
    "data = []\n",
    "for i in cells:\n",
    "    try:\n",
    "        date = i.find('p').text\n",
    "        title = i.find('h4').text\n",
    "        data.append([date,title])\n",
    "    except:\n",
    "        pass"
   ]
  },
  {
   "cell_type": "code",
   "execution_count": 34,
   "id": "9f89ae2d",
   "metadata": {},
   "outputs": [
    {
     "data": {
      "text/plain": [
       "35"
      ]
     },
     "execution_count": 34,
     "metadata": {},
     "output_type": "execute_result"
    }
   ],
   "source": [
    "len(data)"
   ]
  },
  {
   "cell_type": "code",
   "execution_count": 35,
   "id": "3acdb42d",
   "metadata": {},
   "outputs": [],
   "source": [
    "df = pd.DataFrame(columns=['date','title'],data=data)"
   ]
  },
  {
   "cell_type": "code",
   "execution_count": 36,
   "id": "83c2b390",
   "metadata": {},
   "outputs": [
    {
     "data": {
      "text/html": [
       "<div>\n",
       "<style scoped>\n",
       "    .dataframe tbody tr th:only-of-type {\n",
       "        vertical-align: middle;\n",
       "    }\n",
       "\n",
       "    .dataframe tbody tr th {\n",
       "        vertical-align: top;\n",
       "    }\n",
       "\n",
       "    .dataframe thead th {\n",
       "        text-align: right;\n",
       "    }\n",
       "</style>\n",
       "<table border=\"1\" class=\"dataframe\">\n",
       "  <thead>\n",
       "    <tr style=\"text-align: right;\">\n",
       "      <th></th>\n",
       "      <th>date</th>\n",
       "      <th>title</th>\n",
       "    </tr>\n",
       "  </thead>\n",
       "  <tbody>\n",
       "    <tr>\n",
       "      <th>0</th>\n",
       "      <td>26 April 2022</td>\n",
       "      <td>AI/ML in formulation design – Opportunities an...</td>\n",
       "    </tr>\n",
       "    <tr>\n",
       "      <th>1</th>\n",
       "      <td>27 April 2022</td>\n",
       "      <td>Agrifood science in a time of climate change</td>\n",
       "    </tr>\n",
       "    <tr>\n",
       "      <th>2</th>\n",
       "      <td>5 May 2022</td>\n",
       "      <td>SCI Canada Awards</td>\n",
       "    </tr>\n",
       "    <tr>\n",
       "      <th>3</th>\n",
       "      <td>10 May 2022</td>\n",
       "      <td>What a chemist needs to know about patents 2022</td>\n",
       "    </tr>\n",
       "    <tr>\n",
       "      <th>4</th>\n",
       "      <td>11 May 2022</td>\n",
       "      <td>Mcbain Medal 2021</td>\n",
       "    </tr>\n",
       "    <tr>\n",
       "      <th>5</th>\n",
       "      <td>23 May 2022</td>\n",
       "      <td>Engineering Biology – applications for chemist...</td>\n",
       "    </tr>\n",
       "    <tr>\n",
       "      <th>6</th>\n",
       "      <td>13 May 2022</td>\n",
       "      <td>32nd Fine Chemicals Group Postgraduate Symposium</td>\n",
       "    </tr>\n",
       "    <tr>\n",
       "      <th>7</th>\n",
       "      <td>19 May 2022</td>\n",
       "      <td>Liverpool &amp; North West Group AGM 2022</td>\n",
       "    </tr>\n",
       "    <tr>\n",
       "      <th>8</th>\n",
       "      <td>25 May 2022</td>\n",
       "      <td>SCI Electrochemistry Postgraduate Conference 2022</td>\n",
       "    </tr>\n",
       "    <tr>\n",
       "      <th>9</th>\n",
       "      <td>25 May 2022</td>\n",
       "      <td>The Beauty of Chemistry</td>\n",
       "    </tr>\n",
       "    <tr>\n",
       "      <th>10</th>\n",
       "      <td>21 June 2022</td>\n",
       "      <td>National undergraduate industrial placement sh...</td>\n",
       "    </tr>\n",
       "    <tr>\n",
       "      <th>11</th>\n",
       "      <td>6 July 2022</td>\n",
       "      <td>SCI's 141st Annual General Meeting (AGM) 2022</td>\n",
       "    </tr>\n",
       "    <tr>\n",
       "      <th>12</th>\n",
       "      <td>30 March - 31 March 2022</td>\n",
       "      <td>38th SCI Process Development Symposium</td>\n",
       "    </tr>\n",
       "    <tr>\n",
       "      <th>13</th>\n",
       "      <td>6 April 2022</td>\n",
       "      <td>Hemp Happening!</td>\n",
       "    </tr>\n",
       "    <tr>\n",
       "      <th>14</th>\n",
       "      <td>8 April 2022</td>\n",
       "      <td>Rideal Lecture and Symposium on Polymer Colloids</td>\n",
       "    </tr>\n",
       "    <tr>\n",
       "      <th>15</th>\n",
       "      <td>20 April 2022</td>\n",
       "      <td>SCI Energy Group 5th AGM 2022</td>\n",
       "    </tr>\n",
       "    <tr>\n",
       "      <th>16</th>\n",
       "      <td>25 April 2022</td>\n",
       "      <td>Formulating colloids – innovation and disrupti...</td>\n",
       "    </tr>\n",
       "    <tr>\n",
       "      <th>17</th>\n",
       "      <td>7 June 2022</td>\n",
       "      <td>What's new in immunotherapies 2022</td>\n",
       "    </tr>\n",
       "    <tr>\n",
       "      <th>18</th>\n",
       "      <td>8 June - 9 June 2022</td>\n",
       "      <td>Targeting protein degradation 3 – from discove...</td>\n",
       "    </tr>\n",
       "    <tr>\n",
       "      <th>19</th>\n",
       "      <td>15 June 2022</td>\n",
       "      <td>Palm oil and our future world</td>\n",
       "    </tr>\n",
       "    <tr>\n",
       "      <th>20</th>\n",
       "      <td>22 June 2022</td>\n",
       "      <td>Rideal Lecture 2022 and Symposium on Particles...</td>\n",
       "    </tr>\n",
       "    <tr>\n",
       "      <th>21</th>\n",
       "      <td>29 June 2022</td>\n",
       "      <td>Baroness Susan Greenfield - The 21st Century m...</td>\n",
       "    </tr>\n",
       "    <tr>\n",
       "      <th>22</th>\n",
       "      <td>15 July 2022</td>\n",
       "      <td>SCI Early career materials annual conference 2022</td>\n",
       "    </tr>\n",
       "    <tr>\n",
       "      <th>23</th>\n",
       "      <td>15 July 2022</td>\n",
       "      <td>Academia and industry partnerships driving dig...</td>\n",
       "    </tr>\n",
       "    <tr>\n",
       "      <th>24</th>\n",
       "      <td>5 September - 6 September 2022</td>\n",
       "      <td>IEX2022: Technical Training Courses</td>\n",
       "    </tr>\n",
       "    <tr>\n",
       "      <th>25</th>\n",
       "      <td>7 September - 9 September 2022</td>\n",
       "      <td>IEX2022 - A Vision for the Future</td>\n",
       "    </tr>\n",
       "    <tr>\n",
       "      <th>26</th>\n",
       "      <td>28 September 2022</td>\n",
       "      <td>SCI Yorkshire and the Humber Group Annual Awar...</td>\n",
       "    </tr>\n",
       "    <tr>\n",
       "      <th>27</th>\n",
       "      <td>29 September 2022</td>\n",
       "      <td>Irish Polymers and Materials Conference 2022: ...</td>\n",
       "    </tr>\n",
       "    <tr>\n",
       "      <th>28</th>\n",
       "      <td>5 October - 7 October 2022</td>\n",
       "      <td>8th RSC / SCI Symposium on GPCRs in Medicinal ...</td>\n",
       "    </tr>\n",
       "    <tr>\n",
       "      <th>29</th>\n",
       "      <td>5 October 2022</td>\n",
       "      <td>How mentoring can empower diversity and inclusion</td>\n",
       "    </tr>\n",
       "    <tr>\n",
       "      <th>30</th>\n",
       "      <td>7 November 2022</td>\n",
       "      <td>29th SCI Young Chemist in Industry 2022</td>\n",
       "    </tr>\n",
       "    <tr>\n",
       "      <th>31</th>\n",
       "      <td>10 November - 11 November 2022</td>\n",
       "      <td>Turning your science into a business</td>\n",
       "    </tr>\n",
       "    <tr>\n",
       "      <th>32</th>\n",
       "      <td>23 November 2022</td>\n",
       "      <td>SCI-RSC Workshop on Computational Tools for Dr...</td>\n",
       "    </tr>\n",
       "    <tr>\n",
       "      <th>33</th>\n",
       "      <td>1 December 2022</td>\n",
       "      <td>Plant derived biostimulants for crop growth an...</td>\n",
       "    </tr>\n",
       "    <tr>\n",
       "      <th>34</th>\n",
       "      <td>17 July - 19 July 2023</td>\n",
       "      <td>UK Colloids 2023 - International Colloid and S...</td>\n",
       "    </tr>\n",
       "  </tbody>\n",
       "</table>\n",
       "</div>"
      ],
      "text/plain": [
       "                              date  \\\n",
       "0                    26 April 2022   \n",
       "1                    27 April 2022   \n",
       "2                       5 May 2022   \n",
       "3                      10 May 2022   \n",
       "4                      11 May 2022   \n",
       "5                      23 May 2022   \n",
       "6                      13 May 2022   \n",
       "7                      19 May 2022   \n",
       "8                      25 May 2022   \n",
       "9                      25 May 2022   \n",
       "10                    21 June 2022   \n",
       "11                     6 July 2022   \n",
       "12        30 March - 31 March 2022   \n",
       "13                    6 April 2022   \n",
       "14                    8 April 2022   \n",
       "15                   20 April 2022   \n",
       "16                   25 April 2022   \n",
       "17                     7 June 2022   \n",
       "18            8 June - 9 June 2022   \n",
       "19                    15 June 2022   \n",
       "20                    22 June 2022   \n",
       "21                    29 June 2022   \n",
       "22                    15 July 2022   \n",
       "23                    15 July 2022   \n",
       "24  5 September - 6 September 2022   \n",
       "25  7 September - 9 September 2022   \n",
       "26               28 September 2022   \n",
       "27               29 September 2022   \n",
       "28      5 October - 7 October 2022   \n",
       "29                  5 October 2022   \n",
       "30                 7 November 2022   \n",
       "31  10 November - 11 November 2022   \n",
       "32                23 November 2022   \n",
       "33                 1 December 2022   \n",
       "34          17 July - 19 July 2023   \n",
       "\n",
       "                                                title  \n",
       "0   AI/ML in formulation design – Opportunities an...  \n",
       "1        Agrifood science in a time of climate change  \n",
       "2                                   SCI Canada Awards  \n",
       "3     What a chemist needs to know about patents 2022  \n",
       "4                                   Mcbain Medal 2021  \n",
       "5   Engineering Biology – applications for chemist...  \n",
       "6    32nd Fine Chemicals Group Postgraduate Symposium  \n",
       "7               Liverpool & North West Group AGM 2022  \n",
       "8   SCI Electrochemistry Postgraduate Conference 2022  \n",
       "9                             The Beauty of Chemistry  \n",
       "10  National undergraduate industrial placement sh...  \n",
       "11      SCI's 141st Annual General Meeting (AGM) 2022  \n",
       "12             38th SCI Process Development Symposium  \n",
       "13                                    Hemp Happening!  \n",
       "14   Rideal Lecture and Symposium on Polymer Colloids  \n",
       "15                      SCI Energy Group 5th AGM 2022  \n",
       "16  Formulating colloids – innovation and disrupti...  \n",
       "17                 What's new in immunotherapies 2022  \n",
       "18  Targeting protein degradation 3 – from discove...  \n",
       "19                      Palm oil and our future world  \n",
       "20  Rideal Lecture 2022 and Symposium on Particles...  \n",
       "21  Baroness Susan Greenfield - The 21st Century m...  \n",
       "22  SCI Early career materials annual conference 2022  \n",
       "23  Academia and industry partnerships driving dig...  \n",
       "24                IEX2022: Technical Training Courses  \n",
       "25                  IEX2022 - A Vision for the Future  \n",
       "26  SCI Yorkshire and the Humber Group Annual Awar...  \n",
       "27  Irish Polymers and Materials Conference 2022: ...  \n",
       "28  8th RSC / SCI Symposium on GPCRs in Medicinal ...  \n",
       "29  How mentoring can empower diversity and inclusion  \n",
       "30            29th SCI Young Chemist in Industry 2022  \n",
       "31               Turning your science into a business  \n",
       "32  SCI-RSC Workshop on Computational Tools for Dr...  \n",
       "33  Plant derived biostimulants for crop growth an...  \n",
       "34  UK Colloids 2023 - International Colloid and S...  "
      ]
     },
     "execution_count": 36,
     "metadata": {},
     "output_type": "execute_result"
    }
   ],
   "source": [
    "df"
   ]
  },
  {
   "cell_type": "code",
   "execution_count": 37,
   "id": "7af1bc8c",
   "metadata": {},
   "outputs": [],
   "source": [
    "df = df.to_json(orient='split')"
   ]
  },
  {
   "cell_type": "code",
   "execution_count": 38,
   "id": "e97ebfc2",
   "metadata": {},
   "outputs": [
    {
     "data": {
      "text/plain": [
       "'{\"columns\":[\"date\",\"title\"],\"index\":[0,1,2,3,4,5,6,7,8,9,10,11,12,13,14,15,16,17,18,19,20,21,22,23,24,25,26,27,28,29,30,31,32,33,34],\"data\":[[\"26 April 2022\",\"AI\\\\/ML in formulation design \\\\u2013 Opportunities and Challenges\"],[\"27 April 2022\",\"Agrifood science in a time of climate change\"],[\"5 May 2022\",\"SCI Canada Awards\"],[\"10 May 2022\",\"What a chemist needs to know about patents 2022\"],[\"11 May 2022\",\"Mcbain Medal 2021\"],[\"23 May 2022\",\"Engineering Biology \\\\u2013 applications for chemistry-using business\"],[\"13 May 2022\",\"32nd Fine Chemicals Group Postgraduate Symposium\"],[\"19 May 2022\",\"Liverpool & North West Group AGM 2022\"],[\"25 May 2022\",\"SCI Electrochemistry Postgraduate Conference 2022\"],[\"25 May 2022\",\"The Beauty of Chemistry\"],[\"21 June 2022\",\"National undergraduate industrial placement showcase 2022\"],[\"6 July 2022\",\"SCI\\'s 141st Annual General Meeting (AGM) 2022\"],[\"30 March - 31 March 2022\",\"38th SCI Process Development Symposium\"],[\"6 April 2022\",\"Hemp Happening!\"],[\"8 April 2022\",\"Rideal Lecture and Symposium on Polymer Colloids\"],[\"20 April 2022\",\"SCI Energy Group 5th AGM 2022\"],[\"25 April 2022\",\"Formulating colloids \\\\u2013 innovation and disruption (Graham Award Symposium 2021)\"],[\"7 June 2022\",\"What\\'s new in immunotherapies 2022\"],[\"8 June - 9 June 2022\",\"Targeting protein degradation 3 \\\\u2013 from discovery to the clinic\"],[\"15 June 2022\",\"Palm oil and our future world\"],[\"22 June 2022\",\"Rideal Lecture 2022 and Symposium on Particles at a Range of Fluid Interfaces\"],[\"29 June 2022\",\"Baroness Susan Greenfield - The 21st Century mind: Blowing it, expanding it, losing it\"],[\"15 July 2022\",\"SCI Early career materials annual conference 2022\"],[\"15 July 2022\",\"Academia and industry partnerships driving digitalisation in the chemical industry\"],[\"5 September - 6 September 2022\",\"IEX2022: Technical Training Courses\"],[\"7 September - 9 September 2022\",\"IEX2022 - A Vision for the Future\"],[\"28 September 2022\",\"SCI Yorkshire and the Humber Group Annual Awards 2022\"],[\"29 September 2022\",\"Irish Polymers and Materials Conference 2022: Polymers and the Environment II\"],[\"5 October - 7 October 2022\",\"8th RSC \\\\/ SCI Symposium on GPCRs in Medicinal Chemistry\"],[\"5 October 2022\",\"How mentoring can empower diversity and inclusion\"],[\"7 November 2022\",\"29th SCI Young Chemist in Industry 2022\"],[\"10 November - 11 November 2022\",\"Turning your science into a business\"],[\"23 November 2022\",\"SCI-RSC Workshop on Computational Tools for Drug Discovery 2022\"],[\"1 December 2022\",\"Plant derived biostimulants for crop growth and protection\"],[\"17 July - 19 July 2023\",\"UK Colloids 2023 - International Colloid and Surface Science Symposium\"]]}'"
      ]
     },
     "execution_count": 38,
     "metadata": {},
     "output_type": "execute_result"
    }
   ],
   "source": [
    "df"
   ]
  },
  {
   "cell_type": "code",
   "execution_count": null,
   "id": "1c76489e",
   "metadata": {},
   "outputs": [],
   "source": []
  }
 ],
 "metadata": {
  "kernelspec": {
   "display_name": "Python 3 (ipykernel)",
   "language": "python",
   "name": "python3"
  },
  "language_info": {
   "codemirror_mode": {
    "name": "ipython",
    "version": 3
   },
   "file_extension": ".py",
   "mimetype": "text/x-python",
   "name": "python",
   "nbconvert_exporter": "python",
   "pygments_lexer": "ipython3",
   "version": "3.9.4"
  }
 },
 "nbformat": 4,
 "nbformat_minor": 5
}
