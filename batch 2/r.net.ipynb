{
 "cells": [
  {
   "cell_type": "code",
   "execution_count": 8,
   "id": "1a50c951",
   "metadata": {},
   "outputs": [],
   "source": [
    "# -*- coding: utf-8 -*-\n",
    "\"\"\"\n",
    "@author: ChewingGumKing_OJF\n",
    "\"\"\"\n",
    "\n",
    "#loads necessary libraries\n",
    "from selenium import webdriver\n",
    "from selenium.webdriver.chrome.options import Options\n",
    "import time\n",
    "from selenium.webdriver.common.keys import Keys \n",
    "from selenium.webdriver.common.action_chains import ActionChains\n",
    "from selenium.webdriver.common.keys import Keys\n",
    "import os\n",
    "from datetime import datetime\n",
    "from datetime import date\n",
    "import openpyxl\n",
    "from selenium.webdriver.common.action_chains import ActionChains\n",
    "import os\n",
    "import warnings\n",
    "import json\n",
    "import pandas as pd\n",
    "import pyperclip as pc\n",
    "from bs4 import BeautifulSoup as bs\n",
    "import re\n",
    "from random import randint\n",
    "from selenium.common.exceptions import TimeoutException\n",
    "from selenium.common.exceptions import NoSuchElementException\n",
    "from selenium.common.exceptions import WebDriverException\n",
    "from selenium.webdriver.support.ui import WebDriverWait\n",
    "from selenium.webdriver.support import expected_conditions as EC\n",
    "from selenium.webdriver.common.by import By\n",
    "\n",
    "warnings.filterwarnings(\"ignore\")\n"
   ]
  },
  {
   "cell_type": "code",
   "execution_count": 9,
   "id": "b1459a1a",
   "metadata": {},
   "outputs": [],
   "source": [
    "#driver=webdriver.Chrome(r'C:\\Users\\840 g3\\Desktop\\chromedriver.exe')\n",
    "from selenium import webdriver \n",
    "\n",
    "\n",
    "\n",
    "chrome_options = Options()\n",
    "\n",
    "chrome_options.add_argument(\"--disable-extensions\")\n",
    "# linux only\n",
    "# chrome_options.add_argument(\"--headless\")\n",
    "chrome_options.headless = True \n",
    "\n",
    "driver = webdriver.Chrome(r'C:\\Users\\840 g3\\Desktop\\chromedriver.exe',options=chrome_options)"
   ]
  },
  {
   "cell_type": "code",
   "execution_count": 10,
   "id": "b36fa0c6",
   "metadata": {},
   "outputs": [],
   "source": [
    "url='https://www.researchfora.net/event.php?city=all'"
   ]
  },
  {
   "cell_type": "code",
   "execution_count": 11,
   "id": "d89fed65",
   "metadata": {},
   "outputs": [],
   "source": [
    "driver.get(url)\n",
    "time.sleep(10)"
   ]
  },
  {
   "cell_type": "code",
   "execution_count": 12,
   "id": "f65c8d10",
   "metadata": {},
   "outputs": [],
   "source": [
    "samehada=[]\n",
    "soup = bs(driver.page_source,'lxml')\n",
    "cards=soup.find_all('div',{'class':'col-md-4 col-sm-6'})\n",
    "for a in cards:\n",
    "    ln='https://www.researchfora.net/'+a.find('a')['href']\n",
    "    samehada.append(ln)"
   ]
  },
  {
   "cell_type": "code",
   "execution_count": 13,
   "id": "41524f16",
   "metadata": {
    "scrolled": true
   },
   "outputs": [
    {
     "name": "stdout",
     "output_type": "stream",
     "text": [
      "Done\n"
     ]
    }
   ],
   "source": [
    "sag=0\n",
    "r_net=[]\n",
    "placeholder1=''\n",
    "for b in samehada:\n",
    "    driver.get(b)\n",
    "    time.sleep(2)\n",
    "    soupn=bs(driver.page_source,'lxml')\n",
    "    \n",
    "    link=b\n",
    "    try:\n",
    "        title=' '.join(soupn.find('div',{'class':'owl-stage'}).find('div',{'class':'owl-item active'}).find('h3').text.split())\n",
    "    except:\n",
    "        try:\n",
    "            time.sleep(2)\n",
    "            soupn=bs(driver.page_source,'lxml')\n",
    "            title=' '.join(soupn.find('div',{'class':'owl-stage'}).find('div',{'class':'owl-item active'}).find('h3').text.split())\n",
    "        except:\n",
    "            try:\n",
    "                driver.get(b)\n",
    "                time.sleep(5)\n",
    "                soupn=bs(driver.page_source,'lxml')\n",
    "                title=' '.join(soupn.find('div',{'class':'owl-stage'}).find('div',{'class':'owl-item active'}).find('h3').text.split())\n",
    "            except:\n",
    "                time.sleep(2)\n",
    "                soupn=bs(driver.page_source,'lxml')\n",
    "                title=' '.join(soupn.find('div',{'class':'owl-stage'}).find('div',{'class':'owl-item active'}).find('h3').text.split())\n",
    "\n",
    "    outer=' '.join(soupn.find('div',{'class':'owl-stage'}).find('div',{'class':'owl-item active'}).find('h1').text.split()).split('|')\n",
    "    da,lo=[a.strip() for a in outer]\n",
    "    dat=da.replace(\"'\",' ').replace('nd','').replace('st','').replace('th','').replace('rd','').replace('ugu','ugust')\n",
    "    loc=lo.split(',')\n",
    "    spl_dt_obj = datetime.strptime(dat, '%d %B %y')\n",
    "    date_= spl_dt_obj.strftime('%Y-%m-%d')\n",
    "    start_date=end_date=date_\n",
    "\n",
    "\n",
    "    #********************\n",
    "    maio=' '.join(soupn.find('div',{'class':'top_bar'}).find('div',{'class':'col-sm-6 col-md-6'}).get_text(separator='\\\\').split()).split('\\\\')\n",
    "    for va in maio:\n",
    "        if '@' in va:\n",
    "            mll=va.strip()  \n",
    "\n",
    "    if mll=='':\n",
    "        mail_=''\n",
    "    else:\n",
    "        mail_=json.dumps([mll])\n",
    "        #***************************\n",
    "    event_info=' '.join(soupn.find('div',{'class':'intro_detail'}).find('p').text.split())\n",
    "    \n",
    "    org_pro=''\n",
    "    org_web='https://www.researchfora.net/'\n",
    "    org_name='RESEARCH FORA'\n",
    "    ####################################\n",
    "    def get_google_map_url(location):\n",
    "        try:\n",
    "            google_url_for_location=\"https://www.google.com/search?q=\"+location+\"&oq=\"+location+\"&num=1\"\n",
    "            time.sleep(randint(0,3))\n",
    "            driver.get(google_url_for_location)\n",
    "            time.sleep(4)\n",
    "            try:\n",
    "                google_map_url=driver.find_element_by_id('lu_map').click()\n",
    "            except:\n",
    "                try:\n",
    "                    google_map_url=driver.find_element_by_class_name('Xm7sWb').click()\n",
    "                except:\n",
    "                    google_map_url=driver.find_element_by_class_name('Lx2b0d').click()\n",
    "            time.sleep(1)\n",
    "            google_map_url=driver.current_url\n",
    "#                 print(google_map_url)\n",
    "            return(google_map_url)\n",
    "        except Exception as e:\n",
    "            print(location, \"; didn't go through\")\n",
    "            print(e)\n",
    "            return(\"\")\n",
    "    if loc=='':\n",
    "        on_off='1'\n",
    "        city=''\n",
    "        country=''\n",
    "        venue=''\n",
    "        googlePlaceUrl=''\n",
    "    else:\n",
    "        city= loc[0].strip()\n",
    "        country=loc[1].strip()\n",
    "        on_off='0'\n",
    "        venue=loc[0].strip()\n",
    "        #googlePlaceUrl=get_google_map_url(venue)\n",
    "        if venue==placeholder1:\n",
    "            googlePlaceUrl=googlePlaceUrl\n",
    "        else:\n",
    "            googlePlaceUrl=get_google_map_url(venue)\n",
    "        placeholder1=loc[0].strip()\n",
    "\n",
    "    logo=''\n",
    "    sponsors=''\n",
    "    agendalist=''\n",
    "    type_=''\n",
    "    category=''\n",
    "    Speakerlist=''\n",
    "    event_web=link\n",
    "    time_=''\n",
    "    ticket_list=''\n",
    "    event_web=link\n",
    "\n",
    "    \n",
    "    \n",
    "    r_net.append([link,title,start_date,end_date,time_,event_info,ticket_list,\n",
    "                 org_pro,org_name,org_web,logo,sponsors,agendalist,\n",
    "                 type_,category,city,country,venue,event_web,googlePlaceUrl,mail_,\n",
    "                 Speakerlist,on_off])\n",
    "    \n",
    "    \n",
    "    sag+=1\n",
    "    for d in range(0,50*100,100):\n",
    "        if sag==d:\n",
    "            print(d,' cards done')\n",
    "print('Done')"
   ]
  },
  {
   "cell_type": "code",
   "execution_count": null,
   "id": "c25d2ed7",
   "metadata": {},
   "outputs": [],
   "source": [
    "print(len(r_net))"
   ]
  },
  {
   "cell_type": "code",
   "execution_count": null,
   "id": "cbfcd71c",
   "metadata": {},
   "outputs": [],
   "source": [
    "r_net"
   ]
  },
  {
   "cell_type": "code",
   "execution_count": 16,
   "id": "763dffbc",
   "metadata": {},
   "outputs": [
    {
     "name": "stdout",
     "output_type": "stream",
     "text": [
      "Dusted\n"
     ]
    }
   ],
   "source": [
    "r_net_dict=r_net\n",
    "\n",
    "\n",
    "r_net_df= pd.DataFrame(columns=['scrappedUrl','eventname','startdate','enddate','timing','eventinfo','ticketlist','orgProfile','orgName','orgWeb','logo','sponsor','agendalist','type','category','city','country','venue','event_website','googlePlaceUrl','ContactMail','Speakerlist','online_event'],data=r_net_dict)\n",
    "r_net_df.to_csv(\"r_net.tsv\", sep = '\\t',index=False)\n",
    "print('Dusted')"
   ]
  },
  {
   "cell_type": "code",
   "execution_count": null,
   "id": "885f8200",
   "metadata": {},
   "outputs": [],
   "source": []
  }
 ],
 "metadata": {
  "kernelspec": {
   "display_name": "Python 3 (ipykernel)",
   "language": "python",
   "name": "python3"
  },
  "language_info": {
   "codemirror_mode": {
    "name": "ipython",
    "version": 3
   },
   "file_extension": ".py",
   "mimetype": "text/x-python",
   "name": "python",
   "nbconvert_exporter": "python",
   "pygments_lexer": "ipython3",
   "version": "3.9.7"
  }
 },
 "nbformat": 4,
 "nbformat_minor": 5
}
