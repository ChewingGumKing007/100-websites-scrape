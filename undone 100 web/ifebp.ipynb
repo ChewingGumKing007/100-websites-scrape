{
 "cells": [
  {
   "cell_type": "code",
   "execution_count": 1,
   "id": "952b80dd",
   "metadata": {},
   "outputs": [],
   "source": [
    "url = \"https://www.ifebp.org/education/virtual-conferences/Pages/default.aspx\""
   ]
  },
  {
   "cell_type": "code",
   "execution_count": 2,
   "id": "4e40a19e",
   "metadata": {},
   "outputs": [],
   "source": [
    "# -*- coding: utf-8 -*-\n",
    "\"\"\"\n",
    "Created on Tue Feb  8 15:45:44 2022\n",
    "\n",
    "@author: ChewingGumKing_OJF\n",
    "\"\"\"\n",
    "\n",
    "#loads necessary libraries\n",
    "from selenium import webdriver\n",
    "import time\n",
    "from selenium.webdriver.common.keys import Keys \n",
    "from selenium.webdriver.common.action_chains import ActionChains\n",
    "from selenium.webdriver.common.keys import Keys\n",
    "import os\n",
    "from datetime import datetime\n",
    "from datetime import date\n",
    "import openpyxl\n",
    "#import pyautogui\n",
    "from selenium.webdriver.common.action_chains import ActionChains\n",
    "#import shutil\n",
    "#import glob\n",
    "import os\n",
    "import warnings\n",
    "#import itertools\n",
    "import json\n",
    "import pandas as pd\n",
    "import pyperclip as pc\n",
    "from bs4 import BeautifulSoup as bs\n",
    "import re\n",
    "from random import randint\n",
    "from selenium.common.exceptions import TimeoutException\n",
    "from selenium.webdriver.support.ui import WebDriverWait\n",
    "from selenium.webdriver.support import expected_conditions as EC\n",
    "from selenium.webdriver.common.by import By\n",
    "#import sys\n",
    "warnings.filterwarnings(\"ignore\")\n"
   ]
  },
  {
   "cell_type": "code",
   "execution_count": 3,
   "id": "c5bbbf80",
   "metadata": {},
   "outputs": [],
   "source": [
    "driver = webdriver.Chrome(r'C:\\Users\\840 g3\\Desktop\\chromedriver.exe')"
   ]
  },
  {
   "cell_type": "code",
   "execution_count": 4,
   "id": "d8b9d003",
   "metadata": {},
   "outputs": [],
   "source": [
    "driver.get(url)"
   ]
  },
  {
   "cell_type": "code",
   "execution_count": 5,
   "id": "07d820c6",
   "metadata": {},
   "outputs": [],
   "source": [
    "try:\n",
    "    driver.maximize_window()\n",
    "except:\n",
    "    pass"
   ]
  },
  {
   "cell_type": "code",
   "execution_count": 8,
   "id": "66ce4417",
   "metadata": {},
   "outputs": [],
   "source": [
    "html = driver.find_element_by_xpath('//*[@id=\"WebPartctl00_ctl44_g_fc835a5e_1714_4b14_8ddb_8bbb82570e72\"]').get_attribute('outerHTML')"
   ]
  },
  {
   "cell_type": "code",
   "execution_count": 9,
   "id": "6367bdf2",
   "metadata": {},
   "outputs": [],
   "source": [
    "soup = bs(html,'lxml')"
   ]
  },
  {
   "cell_type": "code",
   "execution_count": 20,
   "id": "a50f6402",
   "metadata": {},
   "outputs": [],
   "source": [
    "all_texts = soup.find_all('div',{'class':re.compile('epContainer.+')})"
   ]
  },
  {
   "cell_type": "code",
   "execution_count": 21,
   "id": "b58160df",
   "metadata": {},
   "outputs": [
    {
     "data": {
      "text/plain": [
       "5"
      ]
     },
     "execution_count": 21,
     "metadata": {},
     "output_type": "execute_result"
    }
   ],
   "source": [
    "len(all_texts)"
   ]
  },
  {
   "cell_type": "code",
   "execution_count": 27,
   "id": "b89e4ce7",
   "metadata": {},
   "outputs": [],
   "source": [
    "data = []\n",
    "for k in all_texts:\n",
    "    date = k.find('span',{'class':'epDates'}).text#.find('span').text\n",
    "    title = k.find('div',{'class':'epInfo'}).find('a').text\n",
    "    link=k.find('a')['href']\n",
    "    event_w = k.find('div',{'class':'epButtons'}).find('a')['href']\n",
    "    data.append([date,title,link,event_w])\n",
    "   "
   ]
  },
  {
   "cell_type": "code",
   "execution_count": null,
   "id": "ef64cdc7",
   "metadata": {},
   "outputs": [],
   "source": []
  },
  {
   "cell_type": "code",
   "execution_count": 52,
   "id": "9ae0ba3c",
   "metadata": {},
   "outputs": [],
   "source": [
    "driver.switch_to.window(driver.window_handles[2])"
   ]
  },
  {
   "cell_type": "code",
   "execution_count": 53,
   "id": "00b68185",
   "metadata": {},
   "outputs": [],
   "source": [
    "try:\n",
    "    htmln = driver.page_source\n",
    "    soupn = bs(htmln,'lxml')\n",
    "    org= soupn.find('div',{'class':'group logo-adminlinks content-wrap'})\n",
    "    tdtl=soupn.find('div',{'class':'header_info'})\n",
    "    info=soupn.find('div',{'class':'intro-wrap'})\n",
    "\n",
    "except WebDriverException:\n",
    "    time.sleep(3)\n",
    "    htmln = driver.page_source\n",
    "    soupn = bs(htmln,'lxml')\n",
    "    org= soupn.find('div',{'class':'group logo-adminlinks content-wrap'})\n",
    "    tdtl=soupn.find('div',{'class':'header_info'})\n",
    "    info=soupn.find('div',{'class':'intro-wrap'})\n",
    "\n",
    "####################################"
   ]
  },
  {
   "cell_type": "code",
   "execution_count": 58,
   "id": "97aea1dd",
   "metadata": {},
   "outputs": [
    {
     "data": {
      "text/plain": [
       "<div class=\"intro-wrap\">\n",
       "<div class=\"content-wrap\">\n",
       "<div class=\"condensed\">\n",
       "<div id=\"ctl00_PlaceHolderMain_ctl01_label\" style=\"display:none\">IFEBPEdProg-Introduction</div><div aria-labelledby=\"ctl00_PlaceHolderMain_ctl01_label\" class=\"ms-rtestate-field\" id=\"ctl00_PlaceHolderMain_ctl01__ControlWrapper_RichHtmlField\" style=\"display:inline\"></div>\n",
       "<div class=\"ms-webpart-zone ms-fullWidth\">\n",
       "<div class=\"s4-wpcell-plain ms-webpartzone-cell ms-webpart-cell-vertical ms-fullWidth\" id=\"MSOZoneCell_WebPartWPQ19\">\n",
       "<div class=\"ms-webpart-chrome ms-webpart-chrome-vertical ms-webpart-chrome-fullWidth\">\n",
       "<div allowdelete=\"false\" class=\"ms-WPBody\" haspers=\"false\" id=\"WebPartWPQ19\" style=\"\" webpartid=\"31190447-cc2f-4d80-9c9e-b3b94a202bba\" width=\"100%\"><div class=\"ms-rtestate-field\">Come and experience a conference like no other. Be surrounded by industry experts, network with your peers and learn about the latest in the industry so you can make the most informed decisions on behalf of your funds.<br/> <br/>The U.S. Annual Employee Benefits Conference is your go-to source for accurate, objective and timely education. With the uncertain year ahead, be sure you commit to your education.\n",
       "<p>Join us for three and a half invigorating days at the \n",
       "   <strong>68</strong><sup><strong>th</strong></sup><strong> Annual Employee Benefits Conference</strong> October 23-26, 2022 in Las Vegas, Nevada. </p>\n",
       "<p style=\"text-align: center;\">\n",
       "<strong>Looking for 2021 Annual Conference Handouts?<br/></strong></p>\n",
       "<p style=\"text-align: center;\"><a class=\"calltoaction orange-bg\" href=\"/education/usannual/Pages/annual-employee-benefits-conference-2101.aspx#topics\">2021 Conference Handouts</a></p></div><div class=\"ms-clear\"></div></div>\n",
       "</div>\n",
       "</div>\n",
       "</div>\n",
       "</div>\n",
       "</div>\n",
       "</div>"
      ]
     },
     "execution_count": 58,
     "metadata": {},
     "output_type": "execute_result"
    }
   ],
   "source": [
    "info"
   ]
  },
  {
   "cell_type": "code",
   "execution_count": 59,
   "id": "c96306c8",
   "metadata": {},
   "outputs": [
    {
     "data": {
      "text/plain": [
       "''"
      ]
     },
     "execution_count": 59,
     "metadata": {},
     "output_type": "execute_result"
    }
   ],
   "source": [
    "event_info=info.find('div',{'class':'ms-rtestate-field'}).text\n",
    "event_info"
   ]
  },
  {
   "cell_type": "code",
   "execution_count": null,
   "id": "5f9df6fd",
   "metadata": {},
   "outputs": [],
   "source": []
  },
  {
   "cell_type": "code",
   "execution_count": null,
   "id": "63c2ee76",
   "metadata": {},
   "outputs": [],
   "source": []
  },
  {
   "cell_type": "code",
   "execution_count": null,
   "id": "5b0917d0",
   "metadata": {},
   "outputs": [],
   "source": []
  },
  {
   "cell_type": "code",
   "execution_count": null,
   "id": "e4ce4759",
   "metadata": {},
   "outputs": [],
   "source": []
  },
  {
   "cell_type": "code",
   "execution_count": null,
   "id": "41086c15",
   "metadata": {},
   "outputs": [],
   "source": []
  },
  {
   "cell_type": "code",
   "execution_count": null,
   "id": "3d4f4896",
   "metadata": {},
   "outputs": [],
   "source": []
  },
  {
   "cell_type": "code",
   "execution_count": 28,
   "id": "8b6e800a",
   "metadata": {},
   "outputs": [],
   "source": [
    "df = pd.DataFrame(columns=['date','title','link','event'],data=data)"
   ]
  },
  {
   "cell_type": "code",
   "execution_count": 29,
   "id": "65f7d441",
   "metadata": {},
   "outputs": [
    {
     "data": {
      "text/html": [
       "<div>\n",
       "<style scoped>\n",
       "    .dataframe tbody tr th:only-of-type {\n",
       "        vertical-align: middle;\n",
       "    }\n",
       "\n",
       "    .dataframe tbody tr th {\n",
       "        vertical-align: top;\n",
       "    }\n",
       "\n",
       "    .dataframe thead th {\n",
       "        text-align: right;\n",
       "    }\n",
       "</style>\n",
       "<table border=\"1\" class=\"dataframe\">\n",
       "  <thead>\n",
       "    <tr style=\"text-align: right;\">\n",
       "      <th></th>\n",
       "      <th>date</th>\n",
       "      <th>title</th>\n",
       "      <th>link</th>\n",
       "      <th>event</th>\n",
       "    </tr>\n",
       "  </thead>\n",
       "  <tbody>\n",
       "    <tr>\n",
       "      <th>0</th>\n",
       "      <td>Wednesday, April 13 - Friday, April 15, 2022</td>\n",
       "      <td>Art &amp; Science of Health Promotion Virtual Conf...</td>\n",
       "      <td>https://www.ifebp.org/HealthPromotionConferenc...</td>\n",
       "      <td>https://www.ifebp.org/healthpromotionconferenc...</td>\n",
       "    </tr>\n",
       "    <tr>\n",
       "      <th>1</th>\n",
       "      <td>Monday, June 27 - Wednesday, June 29, 2022</td>\n",
       "      <td>Accounting and Auditing Institute for Employee...</td>\n",
       "      <td>https://www.ifebp.org/education/schedule/Pages...</td>\n",
       "      <td>https://www.ifebp.org/nowrap/pages/edprogramre...</td>\n",
       "    </tr>\n",
       "    <tr>\n",
       "      <th>2</th>\n",
       "      <td>Monday, July 18 - Tuesday, July 19, 2022</td>\n",
       "      <td>Benefit Communication and Technology Institute...</td>\n",
       "      <td>https://www.ifebp.org/education/schedule/Pages...</td>\n",
       "      <td>https://www.ifebp.org/nowrap/pages/edprogramre...</td>\n",
       "    </tr>\n",
       "    <tr>\n",
       "      <th>3</th>\n",
       "      <td>Sunday, October 23 - Wednesday, October 26, 2022</td>\n",
       "      <td>68th Annual Employee Benefits Virtual Conference</td>\n",
       "      <td>https://www.ifebp.org/education/usannual/Pages...</td>\n",
       "      <td>https://www.ifebp.org/nowrap/pages/edprogramre...</td>\n",
       "    </tr>\n",
       "    <tr>\n",
       "      <th>4</th>\n",
       "      <td>Sunday, November 20 - Wednesday, November 23, ...</td>\n",
       "      <td>55th Annual Canadian Employee Benefits Conference</td>\n",
       "      <td>https://www.ifebp.org/education/canadianannual...</td>\n",
       "      <td>https://www.ifebp.org/nowrap/pages/edprogramre...</td>\n",
       "    </tr>\n",
       "  </tbody>\n",
       "</table>\n",
       "</div>"
      ],
      "text/plain": [
       "                                                date  \\\n",
       "0       Wednesday, April 13 - Friday, April 15, 2022   \n",
       "1         Monday, June 27 - Wednesday, June 29, 2022   \n",
       "2           Monday, July 18 - Tuesday, July 19, 2022   \n",
       "3   Sunday, October 23 - Wednesday, October 26, 2022   \n",
       "4  Sunday, November 20 - Wednesday, November 23, ...   \n",
       "\n",
       "                                               title  \\\n",
       "0  Art & Science of Health Promotion Virtual Conf...   \n",
       "1  Accounting and Auditing Institute for Employee...   \n",
       "2  Benefit Communication and Technology Institute...   \n",
       "3   68th Annual Employee Benefits Virtual Conference   \n",
       "4  55th Annual Canadian Employee Benefits Conference   \n",
       "\n",
       "                                                link  \\\n",
       "0  https://www.ifebp.org/HealthPromotionConferenc...   \n",
       "1  https://www.ifebp.org/education/schedule/Pages...   \n",
       "2  https://www.ifebp.org/education/schedule/Pages...   \n",
       "3  https://www.ifebp.org/education/usannual/Pages...   \n",
       "4  https://www.ifebp.org/education/canadianannual...   \n",
       "\n",
       "                                               event  \n",
       "0  https://www.ifebp.org/healthpromotionconferenc...  \n",
       "1  https://www.ifebp.org/nowrap/pages/edprogramre...  \n",
       "2  https://www.ifebp.org/nowrap/pages/edprogramre...  \n",
       "3  https://www.ifebp.org/nowrap/pages/edprogramre...  \n",
       "4  https://www.ifebp.org/nowrap/pages/edprogramre...  "
      ]
     },
     "execution_count": 29,
     "metadata": {},
     "output_type": "execute_result"
    }
   ],
   "source": [
    "df.head()"
   ]
  },
  {
   "cell_type": "code",
   "execution_count": 16,
   "id": "cd13c45c",
   "metadata": {},
   "outputs": [],
   "source": [
    "df = df.to_json(orient='split')"
   ]
  },
  {
   "cell_type": "code",
   "execution_count": 17,
   "id": "0ed74d9f",
   "metadata": {},
   "outputs": [
    {
     "data": {
      "text/plain": [
       "'{\"columns\":[\"date\",\"title\"],\"index\":[0,1,2,3,4],\"data\":[[\"Wednesday, April 13 - Friday, April 15, 2022\",\"Art & Science of Health Promotion Virtual Conference\"],[\"Monday, June 27 - Wednesday, June 29, 2022\",\"Accounting and Auditing Institute for Employee Benefit Plans Virtual Conference\"],[\"Monday, July 18 - Tuesday, July 19, 2022\",\"Benefit Communication and Technology Institute Virtual Conference\"],[\"Sunday, October 23 - Wednesday, October 26, 2022\",\"68th Annual Employee Benefits Virtual Conference\"],[\"Sunday, November 20 - Wednesday, November 23, 2022\",\"55th Annual Canadian Employee Benefits Conference\"]]}'"
      ]
     },
     "execution_count": 17,
     "metadata": {},
     "output_type": "execute_result"
    }
   ],
   "source": [
    "df"
   ]
  },
  {
   "cell_type": "code",
   "execution_count": 34,
   "id": "26d3363a",
   "metadata": {},
   "outputs": [],
   "source": [
    "ash=\"\"\"    ALABAMA\tAL\n",
    "    ALASKA\tAK\n",
    "    AMERICAN SAMOA\tAS\n",
    "    ARIZONA\tAZ\n",
    "    ARKANSAS\tAR\n",
    "    CALIFORNIA\tCA\n",
    "    COLORADO\tCO\n",
    "    CONNECTICUT\tCT\n",
    "    DELAWARE\tDE\n",
    "    DISTRICT OF COLUMBIA\tDC\n",
    "    FLORIDA\tFL\n",
    "    GEORGIA\tGA\n",
    "    GUAM\tGU\n",
    "    HAWAII\tHI\n",
    "    IDAHO\tID\n",
    "    ILLINOIS\tIL\n",
    "    INDIANA\tIN\n",
    "    IOWA\tIA\n",
    "    KANSAS\tKS\n",
    "    KENTUCKY\tKY\n",
    "    LOUISIANA\tLA\n",
    "    MAINE\tME\n",
    "    MARYLAND\tMD\n",
    "    MASSACHUSETTS\tMA\n",
    "    MICHIGAN\tMI\n",
    "    MINNESOTA\tMN\n",
    "    MISSISSIPPI\tMS\n",
    "    MISSOURI\tMO\n",
    "    MONTANA\tMT\n",
    "    NEBRASKA\tNE\n",
    "    NEVADA\tNV\n",
    "    NEW HAMPSHIRE\tNH\n",
    "    NEW JERSEY\tNJ\n",
    "    NEW MEXICO\tNM\n",
    "    NEW YORK\tNY\n",
    "    NORTH CAROLINA\tNC\n",
    "    NORTH DAKOTA\tND\n",
    "    NORTHERN MARIANA IS\tMP\n",
    "    OHIO\tOH\n",
    "    OKLAHOMA\tOK\n",
    "    OREGON\tOR\n",
    "    PENNSYLVANIA\tPA\n",
    "    PUERTO RICO\tPR\n",
    "    RHODE ISLAND\tRI\n",
    "    SOUTH CAROLINA\tSC\n",
    "    SOUTH DAKOTA\tSD\n",
    "    TENNESSEE\tTN\n",
    "    TEXAS\tTX\n",
    "    UTAH\tUT\n",
    "    VERMONT\tVT\n",
    "    VIRGINIA\tVA\n",
    "    VIRGIN ISLANDS\tVI\n",
    "    WASHINGTON\tWA\n",
    "    WEST VIRGINIA\tWV\n",
    "    WISCONSIN\tWI\n",
    "    WYOMING\tWY  \"\"\""
   ]
  },
  {
   "cell_type": "code",
   "execution_count": 39,
   "id": "59b778ea",
   "metadata": {},
   "outputs": [],
   "source": [
    "shigan=ash.replace('    ', '').split('\\n')\n",
    "shi={q.split('\\t')[1].strip() : q.split('\\t')[0].strip() for q in shigan}"
   ]
  },
  {
   "cell_type": "code",
   "execution_count": 41,
   "id": "1c73c4a9",
   "metadata": {},
   "outputs": [
    {
     "data": {
      "text/plain": [
       "'WYOMING'"
      ]
     },
     "execution_count": 41,
     "metadata": {},
     "output_type": "execute_result"
    }
   ],
   "source": [
    "shi.get('WY')"
   ]
  },
  {
   "cell_type": "code",
   "execution_count": null,
   "id": "2f37487f",
   "metadata": {},
   "outputs": [],
   "source": []
  }
 ],
 "metadata": {
  "kernelspec": {
   "display_name": "Python 3 (ipykernel)",
   "language": "python",
   "name": "python3"
  },
  "language_info": {
   "codemirror_mode": {
    "name": "ipython",
    "version": 3
   },
   "file_extension": ".py",
   "mimetype": "text/x-python",
   "name": "python",
   "nbconvert_exporter": "python",
   "pygments_lexer": "ipython3",
   "version": "3.9.7"
  }
 },
 "nbformat": 4,
 "nbformat_minor": 5
}
