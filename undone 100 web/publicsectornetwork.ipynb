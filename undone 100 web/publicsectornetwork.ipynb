{
 "cells": [
  {
   "cell_type": "code",
   "execution_count": 32,
   "id": "a692efbb",
   "metadata": {},
   "outputs": [],
   "source": [
    "ash=\"\"\"    Afghanistan\tAF\n",
    "    Aland Islands\tAX\n",
    "    Albania\tAL\n",
    "    Algeria\tDZ\n",
    "    American Samoa\tAS\n",
    "    Andorra\tAD\n",
    "    Angola\tAO\n",
    "    Anguilla\tAI\n",
    "    Antarctica\tAQ\n",
    "    Antigua and Barbuda\tAG\n",
    "    Argentina\tAR\n",
    "    Armenia\tAM\n",
    "    Aruba\tAW\n",
    "    Australia\tAU\n",
    "    Austria\tAT\n",
    "    Azerbaijan\tAZ\n",
    "    Bahamas\tBS\n",
    "    Bahrain\tBH\n",
    "    Bangladesh\tBD\n",
    "    Barbados\tBB\n",
    "    Belarus\tBY\n",
    "    Belgium\tBE\n",
    "    Belize\tBZ\n",
    "    Benin\tBJ\n",
    "    Bermuda\tBM\n",
    "    Bhutan\tBT\n",
    "    Bolivia\tBO\n",
    "    Bosnia and Herzegovina\tBA\n",
    "    Botswana\tBW\n",
    "    Bouvet Island\tBV\n",
    "    Brazil\tBR\n",
    "    British Indian Ocean Territory\tIO\n",
    "    Brunei Darussalam\tBN\n",
    "    Bulgaria\tBG\n",
    "    Burkina Faso\tBF\n",
    "    Burundi\tBI\n",
    "    Cambodia\tKH\n",
    "    Cameroon\tCM\n",
    "    Canada\tCA\n",
    "    Cape Verde\tCV\n",
    "    Cayman Islands\tKY\n",
    "    Central African Republic\tCF\n",
    "    Chad\tTD\n",
    "    Chile\tCL\n",
    "    China\tCN\n",
    "    Christmas Island\tCX\n",
    "    Cocos (Keeling) Islands\tCC\n",
    "    Colombia\tCO\n",
    "    Comoros\tKM\n",
    "    Congo\tCG\n",
    "    Congo, Democratic Republic of the\tCD\n",
    "    Cook Islands\tCK\n",
    "    Costa Rica\tCR\n",
    "    Côte d'Ivoire\tCI\n",
    "    Croatia (Hrvatska)\tHR\n",
    "    Cuba\tCU\n",
    "    Curaçao\tCW\n",
    "    Cyprus\tCY\n",
    "    Czech Republic\tCZ\n",
    "    Czechoslovakia (former)\tCS\n",
    "    Democratic People's Republic of Korea\tKP\n",
    "    Denmark\tDK\n",
    "    Djibouti\tDJ\n",
    "    Dominica\tDM\n",
    "    Dominican Republic\tDO\n",
    "    East Timor\tTP\n",
    "    Ecuador\tEC\n",
    "    Egypt\tEG\n",
    "    El Salvador\tSV\n",
    "    England (see United Kingdom of Great Britain and Northern Ireland)\t(See GB)\n",
    "    Equatorial Guinea\tGQ\n",
    "    Eritrea\tER\n",
    "    Estonia\tEE\n",
    "    Ethiopia\tET\n",
    "    European Union\tEU\n",
    "    Falkland Islands (Malvinas)\tFK\n",
    "    Faroe Islands\tFO\n",
    "    Federated States of Micronesia\tFM\n",
    "    Fiji\tFJ\n",
    "    Finland\tFI\n",
    "    France\tFR\n",
    "    French Guiana\tGF\n",
    "    French Polynesia\tPF\n",
    "    French Southern Territories\tTF\n",
    "    Gabon\tGA\n",
    "    Gambia\tGM\n",
    "    Georgia\tGE\n",
    "    Germany\tDE\n",
    "    Ghana\tGH\n",
    "    Gibraltar\tGI\n",
    "    Great Britain (see United Kingdom of Great Britain and Northern Ireland)\t(See GB)\n",
    "    Greece\tGR\n",
    "    Greenland\tGL\n",
    "    Grenada\tGD\n",
    "    Guadeloupe\tGP\n",
    "    Guam\tGU\n",
    "    Guatemala\tGT\n",
    "    Guernsey\tGG\n",
    "    Guinea\tGN\n",
    "    Guinea-Bissau\tGW\n",
    "    Guyana\tGY\n",
    "    Haiti\tHT\n",
    "    Heard Island and McDonald Islands\tHM\n",
    "    Holy See\tVA\n",
    "    Honduras\tHN\n",
    "    Hong Kong\tHK\n",
    "    Hungary\tHU\n",
    "    Iceland\tIS\n",
    "    India\tIN\n",
    "    Indonesia\tID\n",
    "    Iraq\tIQ\n",
    "    Ireland\tIE\n",
    "    Islamic Republic of Iran\tIR\n",
    "    Isle of Man\tIM\n",
    "    Israel\tIL\n",
    "    Italy\tIT\n",
    "    Jamaica\tJM\n",
    "    Japan\tJP\n",
    "    Jersey\tJE\n",
    "    Jordan\tJO\n",
    "    Kazakhstan\tKZ\n",
    "    Kenya\tKE\n",
    "    Kiribati\tKI\n",
    "    Kosovo\tXK\n",
    "    Kuwait\tKW\n",
    "    Kyrgyzstan\tKG\n",
    "    Lao People's Democratic Republic\tLA\n",
    "    Latvia\tLV\n",
    "    Lebanon\tLB\n",
    "    Lesotho\tLS\n",
    "    Liberia\tLR\n",
    "    Libyan Arab Jamahiriya\tLY\n",
    "    Liechtenstein\tLI\n",
    "    Lithuania\tLT\n",
    "    Luxembourg\tLU\n",
    "    Macau\tMO\n",
    "    Madagascar\tMG\n",
    "    Malawi\tMW\n",
    "    Malaysia\tMY\n",
    "    Maldives\tMV\n",
    "    Mali\tML\n",
    "    Malta\tMT\n",
    "    Marshall Islands\tMH\n",
    "    Martinique\tMQ\n",
    "    Mauritania\tMR\n",
    "    Mauritius\tMU\n",
    "    Mayotte\tYT\n",
    "    Mexico\tMX\n",
    "    Monaco\tMC\n",
    "    Mongolia\tMN\n",
    "    Montenegro\tME\n",
    "    Montserrat\tMS\n",
    "    Morocco\tMA\n",
    "    Mozambique\tMZ\n",
    "    Myanmar\tMM\n",
    "    Namibia\tNA\n",
    "    Nauru\tNR\n",
    "    Nepal\tNP\n",
    "    Netherlands\tNL\n",
    "    Netherlands Antilles\tAN\n",
    "    Neutral Zone\tNT\n",
    "    New Caledonia\tNC\n",
    "    New Zealand\tNZ\n",
    "    Nicaragua\tNI\n",
    "    Niger\tNE\n",
    "    Nigeria\tNG\n",
    "    Niue\tNU\n",
    "    Norfolk Island\tNF\n",
    "    North Korea (see Democratic People's Republic of Korea)\t(See KP)\n",
    "    Northern Mariana Islands\tMP\n",
    "    Norway\tNO\n",
    "    Oman\tOM\n",
    "    Pakistan\tPK\n",
    "    Palau\tPW\n",
    "    Palestinian Territory, Occupied\tPS\n",
    "    Panama\tPA\n",
    "    Papua New Guinea\tPG\n",
    "    Paraguay\tPY\n",
    "    Peru\tPE\n",
    "    Philippines\tPH\n",
    "    Pitcairn\tPN\n",
    "    Poland\tPL\n",
    "    Portugal\tPT\n",
    "    Puerto Rico\tPR\n",
    "    Qatar\tQA\n",
    "    Republic of Korea\tKR\n",
    "    Republic of Moldova\tMD\n",
    "    Reunion\tRE\n",
    "    Romania\tRO\n",
    "    Russian Federation\tRU\n",
    "    Rwanda\tRW\n",
    "    Saint Helena\tSH\n",
    "    Saint Kitts and Nevis\tKN\n",
    "    Saint Lucia\tLC\n",
    "    Saint Martin\tMF\n",
    "    Saint Vincent & the Grenadines\tVC\n",
    "    Samoa\tWS\n",
    "    San Marino\tSM\n",
    "    Sao Tome and Principe\tST\n",
    "    Saudi Arabia\tSA\n",
    "    Scotland (see United Kingdom of Great Britain and Northern Ireland)\t(See GB)\n",
    "    Senegal\tSN\n",
    "    Serbia\tRS\n",
    "    Seychelles\tSC\n",
    "    Sierra Leone\tSL\n",
    "    Singapore\tSG\n",
    "    Sint Maarten\tSX\n",
    "    Slovakia\tSK\n",
    "    Slovenia\tSI\n",
    "    Solomon Islands\tSB\n",
    "    Somalia\tSO\n",
    "    South Africa\tZA\n",
    "    South Georgia and The South Sandwich Islands\tGS\n",
    "    South Korea (see Republic of Korea)\t(See KR)\n",
    "    South Sudan\tSS\n",
    "    Spain\tES\n",
    "    Sri Lanka\tLK\n",
    "    St. Pierre and Miquelon\tPM\n",
    "    Sudan\tSD\n",
    "    Suriname\tSR\n",
    "    Svalbard and Jan Mayen\tSJ\n",
    "    Swaziland\tSZ\n",
    "    Sweden\tSE\n",
    "    Switzerland\tCH\n",
    "    Syrian Arab Republic\tSY\n",
    "    Taiwan\tTW\n",
    "    Tajikistan\tTJ\n",
    "    Thailand\tTH\n",
    "    The Former Yugoslav Republic of Macedonia\tMK\n",
    "    Timor-Leste\tTL\n",
    "    Togo\tTG\n",
    "    Tokelau\tTK\n",
    "    Tonga\tTO\n",
    "    Trinidad and Tobago\tTT\n",
    "    Tunisia\tTN\n",
    "    Turkey\tTR\n",
    "    Turkmenistan\tTM\n",
    "    Turks and Caicos Islands\tTC\n",
    "    Tuvalu\tTV\n",
    "    US Minor Outlying Islands\tUM\n",
    "    Uganda\tUG\n",
    "    Ukraine\tUA\n",
    "    United Arab Emirates\tAE\n",
    "    United Kingdom of Great Britain and Northern Ireland\tGB\n",
    "    United Kingdom (see United Kingdom of Great Britain and Northern Ireland)\t(See GB)\n",
    "    United Republic of Tanzania\tTZ\n",
    "    United States of America\tUS\n",
    "    Uruguay\tUY\n",
    "    Uzbekistan\tUZ\n",
    "    Vanuatu\tVU\n",
    "    Venezuela\tVE\n",
    "    Viet Nam\tVN\n",
    "    Virgin Islands (British)\tVG\n",
    "    Virgin Islands (U.S.A.)\tVI\n",
    "    Wallis and Futuna\tWF\n",
    "    Western Sahara\tEH\n",
    "    Yemen\tYE\n",
    "    Zambia\tZM\n",
    "    Zimbabwe\tZW  \"\"\""
   ]
  },
  {
   "cell_type": "code",
   "execution_count": 107,
   "id": "3d69486c",
   "metadata": {},
   "outputs": [],
   "source": [
    "shigan=ash.replace('    ', '').split('\\n')\n",
    "shi={q.split('\\t')[1].strip() : q.split('\\t')[0].strip() for q in shigan}"
   ]
  },
  {
   "cell_type": "code",
   "execution_count": 128,
   "id": "14663bb5",
   "metadata": {},
   "outputs": [],
   "source": [
    "shi.get('zu')"
   ]
  },
  {
   "cell_type": "code",
   "execution_count": null,
   "id": "631a6d70",
   "metadata": {},
   "outputs": [],
   "source": []
  },
  {
   "cell_type": "code",
   "execution_count": 1,
   "id": "439c1e2c",
   "metadata": {},
   "outputs": [],
   "source": [
    "# -*- coding: utf-8 -*-\n",
    "\"\"\"\n",
    "Created on Tue Feb  8 15:45:44 2022\n",
    "\n",
    "@author: ChewingGumKing_OJF\n",
    "\"\"\"\n",
    "\n",
    "#loads necessary libraries\n",
    "from selenium import webdriver\n",
    "import time\n",
    "from selenium.webdriver.common.keys import Keys \n",
    "from selenium.webdriver.common.action_chains import ActionChains\n",
    "from selenium.webdriver.common.keys import Keys\n",
    "import os\n",
    "from datetime import datetime\n",
    "from datetime import date\n",
    "import openpyxl\n",
    "from selenium.webdriver.common.action_chains import ActionChains\n",
    "import os\n",
    "import warnings\n",
    "import json\n",
    "import pandas as pd\n",
    "import pyperclip as pc\n",
    "from bs4 import BeautifulSoup as bs\n",
    "import re\n",
    "from random import randint\n",
    "from selenium.common.exceptions import TimeoutException\n",
    "from selenium.common.exceptions import NoSuchElementException\n",
    "from selenium.common.exceptions import WebDriverException\n",
    "from selenium.webdriver.support.ui import WebDriverWait\n",
    "from selenium.webdriver.support import expected_conditions as EC\n",
    "from selenium.webdriver.common.by import By\n",
    "warnings.filterwarnings(\"ignore\")\n"
   ]
  },
  {
   "cell_type": "code",
   "execution_count": 2,
   "id": "2ce11b17",
   "metadata": {},
   "outputs": [],
   "source": [
    "url = 'https://publicsectornetwork.co/events/'"
   ]
  },
  {
   "cell_type": "code",
   "execution_count": null,
   "id": "454ec2d6",
   "metadata": {},
   "outputs": [],
   "source": []
  },
  {
   "cell_type": "code",
   "execution_count": 3,
   "id": "e3154674",
   "metadata": {},
   "outputs": [],
   "source": [
    "driver=webdriver.Chrome(r'C:\\Users\\840 g3\\Desktop\\chromedriver.exe')\n"
   ]
  },
  {
   "cell_type": "code",
   "execution_count": 4,
   "id": "02caecb2",
   "metadata": {},
   "outputs": [],
   "source": [
    "driver.get(url)\n",
    "time.sleep(20)"
   ]
  },
  {
   "cell_type": "code",
   "execution_count": 5,
   "id": "b2ba2678",
   "metadata": {},
   "outputs": [],
   "source": [
    "try:\n",
    "    driver.maximize_window()\n",
    "except:\n",
    "    pass"
   ]
  },
  {
   "cell_type": "code",
   "execution_count": 111,
   "id": "ff1e3dbd",
   "metadata": {},
   "outputs": [],
   "source": [
    "soup = bs(driver.page_source,'lxml')"
   ]
  },
  {
   "cell_type": "code",
   "execution_count": 112,
   "id": "058c805d",
   "metadata": {},
   "outputs": [],
   "source": [
    "section = soup.find('div',{'class':'list-data-section'})"
   ]
  },
  {
   "cell_type": "code",
   "execution_count": 113,
   "id": "d7999ea0",
   "metadata": {},
   "outputs": [],
   "source": [
    "article = section.find_all('article')"
   ]
  },
  {
   "cell_type": "code",
   "execution_count": 129,
   "id": "9f4048fc",
   "metadata": {},
   "outputs": [],
   "source": [
    "public = []\n",
    "data=[]\n",
    "for i in article:\n",
    "    datuon = i.find('span',{'class':'meta-category'}).text.strip()\n",
    "    venueuon = i.find('span').text\n",
    "    tituon = i.find('h3').text\n",
    "    link=i.find('a')['href']\n",
    "    co=i.find('span',{'class':'psn-flag'})['style'].replace('.','/').split('/')[-2].upper()\n",
    "    data.append([link,co])\n",
    "#     for za in data:\n",
    "#         driver.get(za)\n",
    "#         ################################\n",
    "#         link=za\n",
    "#         #################################\n",
    "#         try:\n",
    "#             htmln = driver.page_source\n",
    "#             soupn = bs(htmln,'lxml')\n",
    "#             dati= soupn.find('div',{'class':'wp-block-columns site-events-varitions-ve2-caption'})\n",
    "#             ev=soupn.find('div',{'class':'wp-block-columns site-events-train-overview-main-wrap'})\n",
    "#             spk=soupn.find('div',{'class':'wp-block-column container-class'})\n",
    "#             spo=soupn.find('div',{'class':'wp-block-column container-class has-white-background-color has-background'})\n",
    "#         except WebDriverException:\n",
    "#             time.sleep(3)\n",
    "#             htmln = driver.page_source\n",
    "#             soupn = bs(htmln,'lxml')\n",
    "#             dati= soupn.find('div',{'class':'wp-block-columns site-events-varitions-ve2-caption'})\n",
    "#             sp=soupn.find('div',{'class':'wp-block-column container-class'})\n",
    "#             ev=soupn.find('div',{'class':'wp-block-columns site-events-train-overview-main-wrap'})\n",
    "#             spo=soupn.find('div',{'class':'wp-block-column container-class has-white-background-color has-background'})\n",
    "#         ####################################\n",
    "        "
   ]
  },
  {
   "cell_type": "code",
   "execution_count": 130,
   "id": "3f877011",
   "metadata": {},
   "outputs": [
    {
     "data": {
      "text/plain": [
       "[['https://publicsectornetwork.co/event/roadshow-2022-local-government-and-municipalities/',\n",
       "  'AU'],\n",
       " ['https://publicsectornetwork.co/event/virtual-event-data-management-analytics-national-insights-spring-edition-canada/',\n",
       "  'CA'],\n",
       " ['https://publicsectornetwork.co/event/edutech-2022-canada/', 'CA'],\n",
       " ['https://publicsectornetwork.co/event/virtual-event-government-data-insights-spring-edition-usa/',\n",
       "  'US'],\n",
       " ['https://publicsectornetwork.co/event/online-training-driving-wellbeing-through-leadership-2022/',\n",
       "  'AU'],\n",
       " ['https://publicsectornetwork.co/event/aotearoa-nz-data-ai-showcase-2022/',\n",
       "  'NZ'],\n",
       " ['https://publicsectornetwork.co/event/virtual-event-cyber-security-risk-management-national-insights-spring-edition-canada/',\n",
       "  'CA'],\n",
       " ['https://publicsectornetwork.co/event/virtual-event-innovation-and-it-nz-national-insights-biannual-edition/',\n",
       "  'NZ'],\n",
       " ['https://publicsectornetwork.co/event/virtual-event-federal-it-insights-usa/',\n",
       "  'US'],\n",
       " ['https://publicsectornetwork.co/event/psis-atlantic-2022-canada/', 'CA'],\n",
       " ['https://publicsectornetwork.co/event/virtual-event-health-human-services-national-insights-spring-edition-canada/',\n",
       "  'CA'],\n",
       " ['https://publicsectornetwork.co/event/virtual-event-federal-hr-insights-usa-2022/',\n",
       "  'US'],\n",
       " ['https://publicsectornetwork.co/event/virtual-event-corporate-and-shared-services-national-insights-autumn-edition/',\n",
       "  'AU'],\n",
       " ['https://publicsectornetwork.co/event/virtual-event-innovation-and-it-national-insights-autumn-edition/',\n",
       "  'AU'],\n",
       " ['https://publicsectornetwork.co/event/psis-event-government-innovation-new-york/',\n",
       "  'US'],\n",
       " ['https://publicsectornetwork.co/event/virtual-event-digital-government-and-cx-national-insights-spring-edition-canada/',\n",
       "  'CA'],\n",
       " ['https://publicsectornetwork.co/event/virtual-event-driving-an-accessible-progressive-and-secure-healthcare-system-2022-au/',\n",
       "  'AU'],\n",
       " ['https://publicsectornetwork.co/event/virtual-event-corporate-and-shared-services-national-insights-summer-edition/',\n",
       "  'CA'],\n",
       " ['https://publicsectornetwork.co/event/roadshow-2022-health-human-services-canada/',\n",
       "  'CA'],\n",
       " ['https://publicsectornetwork.co/event/virtual-event-government-it-insights-spring-usa/',\n",
       "  'US'],\n",
       " ['https://publicsectornetwork.co/event/corporate-online-training-optimising-governance-reporting-decision-making-2022/',\n",
       "  'AU'],\n",
       " ['https://publicsectornetwork.co/event/q2-anz-innovation-online-training-ict-strategy-and-architecture-for-a-disruptive-environment/',\n",
       "  'AU'],\n",
       " ['https://publicsectornetwork.co/event/virtual-event-government-hr-insights-usa-spring-edition/',\n",
       "  'US'],\n",
       " ['https://publicsectornetwork.co/event/virtual-event-smart-cities-infrastructure-national-insights-canada-spring-edition/',\n",
       "  'CA'],\n",
       " ['https://publicsectornetwork.co/event/roadshow-2022-defence-security-and-justice-au/',\n",
       "  'AU'],\n",
       " ['https://publicsectornetwork.co/event/virtual-event-cyber-security-and-risk-management-national-insights-au-2022-q2-autumn-edition/',\n",
       "  'AU'],\n",
       " ['https://publicsectornetwork.co/event/au-q2-data-virtual-event-developing-autonomous-data-competencies-for-real-value-analytics-readiness/',\n",
       "  'AU'],\n",
       " ['https://publicsectornetwork.co/event/psis-event-government-innovation-washington/',\n",
       "  'US'],\n",
       " ['https://publicsectornetwork.co/event/virtual-event-hitting-digital-transformation-targets-across-the-public-sector-q2-2022-au/',\n",
       "  'AU'],\n",
       " ['https://publicsectornetwork.co/event/virtual-event-local-government-national-insights-spring-edition/',\n",
       "  'CA'],\n",
       " ['https://publicsectornetwork.co/event/virtual-event-federal-data-insights-usa/',\n",
       "  'US'],\n",
       " ['https://publicsectornetwork.co/event/virtual-event-modernising-council-services-to-revolutionise-customer-experience-q2-2022-autumn-edition/',\n",
       "  'AU'],\n",
       " ['https://publicsectornetwork.co/event/nz-biannual-june-virtual-event-driving-data-analytics-excellence-in-the-nz-government/',\n",
       "  'NZ'],\n",
       " ['https://publicsectornetwork.co/event/online-training-achieving-the-change-required-to-lift-your-cyber-resilience-q2-2022/',\n",
       "  'AU'],\n",
       " ['https://publicsectornetwork.co/event/virtual-event-hr-future-of-work-national-insights-spring-edition/',\n",
       "  'CA'],\n",
       " ['https://publicsectornetwork.co/event/virtual-event-smart-cities-infrastructure-national-insights-q2-2022-autumn-edition/',\n",
       "  'AU'],\n",
       " ['https://publicsectornetwork.co/event/roadshow-2022-data-management-analytics-canada/',\n",
       "  'CA'],\n",
       " ['https://publicsectornetwork.co/event/online-training-data-visualisation-storytelling-for-government/',\n",
       "  'AU'],\n",
       " ['https://publicsectornetwork.co/event/virtual-event-defence-security-and-justice-national-insights-summer-edition-canada/',\n",
       "  'CA'],\n",
       " ['https://publicsectornetwork.co/event/virtual-event-government-cyber-insights-usa-spring-edition/',\n",
       "  'US'],\n",
       " ['https://publicsectornetwork.co/event/virtual-event-innovation-and-ict-national-insights-summer-canada/',\n",
       "  'CA'],\n",
       " ['https://publicsectornetwork.co/event/anz-roadshow-june-2022-hr-and-future-of-work/',\n",
       "  'AU'],\n",
       " ['https://publicsectornetwork.co/event/online-training-precinct-planning-and-development-q2-2022/',\n",
       "  'AU'],\n",
       " ['https://publicsectornetwork.co/event/online-training-effective-communication-for-local-government-leaders-q2-2022-autumn-edition/',\n",
       "  'AU'],\n",
       " ['https://publicsectornetwork.co/event/virtual-event-government-digital-insights-usa-spring-edition/',\n",
       "  'US'],\n",
       " ['https://publicsectornetwork.co/event/online-training-citizen-centric-design-and-delivery-2022/',\n",
       "  'AU'],\n",
       " ['https://publicsectornetwork.co/event/virtual-event-improving-response-and-preparedness-for-more-resilient-frontline-services-q2-2022-au/',\n",
       "  'AU'],\n",
       " ['https://publicsectornetwork.co/event/psis-prairies-2022-canada/', 'CA'],\n",
       " ['https://publicsectornetwork.co/event/online-training-q2-re-engineer-your-workforce-capabilities-capacity-to-excel-under-pressure-2022-au/',\n",
       "  'AU'],\n",
       " ['https://publicsectornetwork.co/event/innovate-sa-june-2022/', 'AU'],\n",
       " ['https://publicsectornetwork.co/event/event-government-innovation-massachusetts-2022/',\n",
       "  'US'],\n",
       " ['https://publicsectornetwork.co/event/innovate-vic-2022/', 'AU'],\n",
       " ['https://publicsectornetwork.co/event/queensland-digital-2022/', 'AU'],\n",
       " ['https://publicsectornetwork.co/event/psis-ontario-2022-canada/', 'CA'],\n",
       " ['https://publicsectornetwork.co/event/cyber-collaborate-the-australian-cyber-security-conference/',\n",
       "  'AU']]"
      ]
     },
     "execution_count": 130,
     "metadata": {},
     "output_type": "execute_result"
    }
   ],
   "source": [
    "data"
   ]
  },
  {
   "cell_type": "code",
   "execution_count": 409,
   "id": "05e8964c",
   "metadata": {},
   "outputs": [
    {
     "data": {
      "text/plain": [
       "<div class=\"wp-block-cover__inner-container\">\n",
       "<p class=\"has-text-align-center has-large-font-size\">Re-engineer Your Workforce Capabilities &amp; Capacity to Excel Under Pressure</p>\n",
       "<p class=\"has-text-align-center\">22 &amp; 29 June 2022 | 10:00 AM – 2:30 PM AEDT | Online</p>\n",
       "<div class=\"wp-container-62429f6482cc4 wp-block-buttons\">\n",
       "<div class=\"wp-block-button\"><a class=\"wp-block-button__link has-black-color has-health-light-purple-background-color has-text-color has-background\" href=\"\" rel=\"noreferrer noopener\" target=\"_blank\">Register Now</a></div>\n",
       "</div>\n",
       "</div>"
      ]
     },
     "execution_count": 409,
     "metadata": {},
     "output_type": "execute_result"
    }
   ],
   "source": [
    "dati"
   ]
  },
  {
   "cell_type": "code",
   "execution_count": 416,
   "id": "e6088db6",
   "metadata": {},
   "outputs": [
    {
     "data": {
      "text/plain": [
       "'Re-engineer Your Workforce Capabilities & Capacity to Excel Under Pressure'"
      ]
     },
     "execution_count": 416,
     "metadata": {},
     "output_type": "execute_result"
    }
   ],
   "source": [
    "str(dati).replace('<p','</p>').split('</p>')[1].split('\">')[1].replace('&amp;','&')"
   ]
  },
  {
   "cell_type": "code",
   "execution_count": 417,
   "id": "0b5085f0",
   "metadata": {},
   "outputs": [
    {
     "data": {
      "text/plain": [
       "'22 & 29 June 2022 | 10:00 AM – 2:30 PM AEDT | Online'"
      ]
     },
     "execution_count": 417,
     "metadata": {},
     "output_type": "execute_result"
    }
   ],
   "source": [
    "str(dati).replace('<p','</p>').split('</p>')[3].split('\">')[1].replace('&amp;','&')"
   ]
  },
  {
   "cell_type": "code",
   "execution_count": 367,
   "id": "b85ff3aa",
   "metadata": {},
   "outputs": [
    {
     "ename": "NameError",
     "evalue": "name 'NSW' is not defined",
     "output_type": "error",
     "traceback": [
      "\u001b[1;31m---------------------------------------------------------------------------\u001b[0m",
      "\u001b[1;31mNameError\u001b[0m                                 Traceback (most recent call last)",
      "\u001b[1;32mC:\\Users\\840G3~1\\AppData\\Local\\Temp/ipykernel_10100/4284914549.py\u001b[0m in \u001b[0;36m<module>\u001b[1;34m\u001b[0m\n\u001b[1;32m----> 1\u001b[1;33m \u001b[0mNSW\u001b[0m \u001b[1;33m|\u001b[0m \u001b[0mVIC\u001b[0m \u001b[1;33m|\u001b[0m \u001b[0mWA\u001b[0m \u001b[1;33m|\u001b[0m \u001b[0mNZ\u001b[0m \u001b[1;33m|\u001b[0m \u001b[0mQLD\u001b[0m \u001b[1;33m|\u001b[0m \u001b[0mSA\u001b[0m\u001b[1;33m\u001b[0m\u001b[1;33m\u001b[0m\u001b[0m\n\u001b[0m",
      "\u001b[1;31mNameError\u001b[0m: name 'NSW' is not defined"
     ]
    }
   ],
   "source": [
    "NSW | VIC | WA | NZ | QLD | SA"
   ]
  },
  {
   "cell_type": "code",
   "execution_count": 393,
   "id": "eb8ce413",
   "metadata": {},
   "outputs": [],
   "source": [
    "driver.switch_to.window(driver.window_handles[17])"
   ]
  },
  {
   "cell_type": "code",
   "execution_count": 403,
   "id": "a063f343",
   "metadata": {},
   "outputs": [],
   "source": [
    "# try:\n",
    "htmln = driver.page_source\n",
    "soupn = bs(htmln,'lxml')\n",
    "\n",
    "\n",
    "ev=soupn.find('div',{'class':'wp-block-columns site-events-train-overview-main-wrap'})\n",
    "spk=soupn.find('div',{'class':'wp-block-column container-class'})\n",
    "spo=soupn.find('div',{'class':'wp-block-column container-class has-white-background-color has-background'})\n"
   ]
  },
  {
   "cell_type": "code",
   "execution_count": 404,
   "id": "9c9e27c1",
   "metadata": {},
   "outputs": [],
   "source": [
    "shiii=dati.findChildren()#.find('div')#"
   ]
  },
  {
   "cell_type": "code",
   "execution_count": 405,
   "id": "ebebd4c8",
   "metadata": {},
   "outputs": [
    {
     "data": {
      "text/plain": [
       "5"
      ]
     },
     "execution_count": 405,
     "metadata": {},
     "output_type": "execute_result"
    }
   ],
   "source": [
    "len(shiii)"
   ]
  },
  {
   "cell_type": "code",
   "execution_count": 406,
   "id": "666e00c4",
   "metadata": {},
   "outputs": [
    {
     "data": {
      "text/plain": [
       "1"
      ]
     },
     "execution_count": 406,
     "metadata": {},
     "output_type": "execute_result"
    }
   ],
   "source": [
    "len(shiii[0])"
   ]
  },
  {
   "cell_type": "code",
   "execution_count": 357,
   "id": "2ee30bae",
   "metadata": {},
   "outputs": [
    {
     "name": "stdout",
     "output_type": "stream",
     "text": [
      "2\n",
      "0\n",
      "4\n",
      "0\n",
      "1\n",
      "0\n",
      "3\n",
      "1\n",
      "2\n",
      "0\n"
     ]
    }
   ],
   "source": [
    "for child in shiii:\n",
    "    print(len(child))"
   ]
  },
  {
   "cell_type": "code",
   "execution_count": null,
   "id": "9f894119",
   "metadata": {},
   "outputs": [],
   "source": [
    "dati= soupn.find('div',{'class':'wp-block-columns site-events-varitions-ve2-caption'})\n",
    "if str(dati)=='None':\n",
    "    dati= soupn.find('div',{'class':'wp-block-cover__inner-container'})\n",
    "    shiii=dati.findChildren()\n",
    "    park=len(shiii[0])\n",
    "elif len(dati.findChildren())<=2:\n",
    "    dati= soupn.find('div',{'class':'wp-block-cover__inner-container'})\n",
    "    shiii=dati.findChildren()\n",
    "    park=len(shiii[0])\n",
    "else:\n",
    "    shiii=dati.findChildren()\n",
    "    park=len(shiii[0])"
   ]
  },
  {
   "cell_type": "code",
   "execution_count": 172,
   "id": "0cdcd09c",
   "metadata": {},
   "outputs": [
    {
     "data": {
      "text/plain": [
       "'Edutech Canada'"
      ]
     },
     "execution_count": 172,
     "metadata": {},
     "output_type": "execute_result"
    }
   ],
   "source": [
    "try:\n",
    "    scu=dati.find('h1')#.text\n",
    "except AttributeError:\n",
    "    scu=dati.find('h4')#.text\n",
    "####################\n",
    "if '<br' in str(scu):\n",
    "    dr=len(str(scu).replace('<br','>').split('>')[1])\n",
    "    tit=scu.text[:dr]+' '+scu.text[dr:]\n",
    "else:\n",
    "    tit=scu.text\n",
    "\n",
    "################\n",
    "try:\n",
    "    event_web=dati.find('a')['href']\n",
    "except:\n",
    "    event_web=link\n",
    "tit"
   ]
  },
  {
   "cell_type": "code",
   "execution_count": 173,
   "id": "1ee08b1f",
   "metadata": {},
   "outputs": [
    {
     "data": {
      "text/plain": [
       "'Edutech Canada'"
      ]
     },
     "execution_count": 173,
     "metadata": {},
     "output_type": "execute_result"
    }
   ],
   "source": [
    "if \"Virtual Event\" in tit:\n",
    "    titl=tit.split('\\u202f')[1]\n",
    "else:\n",
    "    titl=tit\n",
    "if \"\\xa0\" in titl:\n",
    "    title=titl.replace('\\xa0', ' ')\n",
    "else:\n",
    "    title=titl\n",
    "title\n",
    "#titl.replace('\\u202f',' ')"
   ]
  },
  {
   "cell_type": "code",
   "execution_count": 205,
   "id": "60c72ab1",
   "metadata": {},
   "outputs": [
    {
     "data": {
      "text/plain": [
       "'Wednesday, April 6th, 2022  Toronto | 8am ET'"
      ]
     },
     "execution_count": 205,
     "metadata": {},
     "output_type": "execute_result"
    }
   ],
   "source": [
    "try:\n",
    "    datiloc=dati.find('p').text\n",
    "except:\n",
    "    try:\n",
    "        datiloc=dati.find('h3').text\n",
    "    except:\n",
    "        try:\n",
    "            sabre=dati.find('div',{'class':'wp-block-column'}).text\n",
    "            datiloc=sabre.split('\\n\\n')[-3].split('\\n')[2]\n",
    "        except:\n",
    "            datiloc=''\n",
    "        \n",
    "datiloc"
   ]
  },
  {
   "cell_type": "code",
   "execution_count": 143,
   "id": "6ba93d95",
   "metadata": {},
   "outputs": [
    {
     "data": {
      "text/plain": [
       "'Wednesday, April 6th, 2022  Toronto | 8am ET'"
      ]
     },
     "execution_count": 143,
     "metadata": {},
     "output_type": "execute_result"
    }
   ],
   "source": [
    "sabre=dati.find('div',{'class':'wp-block-column'}).text\n",
    "sabre.split('\\n\\n')[-3].split('\\n')[2]"
   ]
  },
  {
   "cell_type": "code",
   "execution_count": null,
   "id": "c894e18b",
   "metadata": {},
   "outputs": [],
   "source": []
  },
  {
   "cell_type": "code",
   "execution_count": 310,
   "id": "d3de2573",
   "metadata": {},
   "outputs": [
    {
     "data": {
      "text/plain": [
       "'April 5 – 28, 2022  NSW | VIC | WA | NZ | QLD | SA'"
      ]
     },
     "execution_count": 310,
     "metadata": {},
     "output_type": "execute_result"
    }
   ],
   "source": [
    "sabre.split('\\n\\n')[-3].split('\\n')[2]"
   ]
  },
  {
   "cell_type": "code",
   "execution_count": null,
   "id": "6dd6db15",
   "metadata": {},
   "outputs": [],
   "source": []
  },
  {
   "cell_type": "code",
   "execution_count": null,
   "id": "107d8b97",
   "metadata": {},
   "outputs": [],
   "source": []
  },
  {
   "cell_type": "code",
   "execution_count": null,
   "id": "e66ca20f",
   "metadata": {},
   "outputs": [],
   "source": []
  },
  {
   "cell_type": "code",
   "execution_count": null,
   "id": "86b20c2a",
   "metadata": {},
   "outputs": [],
   "source": []
  },
  {
   "cell_type": "code",
   "execution_count": null,
   "id": "05c319fe",
   "metadata": {},
   "outputs": [],
   "source": []
  },
  {
   "cell_type": "code",
   "execution_count": 16,
   "id": "25554fbd",
   "metadata": {},
   "outputs": [],
   "source": [
    "df = pd.DataFrame(columns=['date','venue','title','link'],data=public)"
   ]
  },
  {
   "cell_type": "code",
   "execution_count": 17,
   "id": "df6c4969",
   "metadata": {},
   "outputs": [
    {
     "data": {
      "text/html": [
       "<div>\n",
       "<style scoped>\n",
       "    .dataframe tbody tr th:only-of-type {\n",
       "        vertical-align: middle;\n",
       "    }\n",
       "\n",
       "    .dataframe tbody tr th {\n",
       "        vertical-align: top;\n",
       "    }\n",
       "\n",
       "    .dataframe thead th {\n",
       "        text-align: right;\n",
       "    }\n",
       "</style>\n",
       "<table border=\"1\" class=\"dataframe\">\n",
       "  <thead>\n",
       "    <tr style=\"text-align: right;\">\n",
       "      <th></th>\n",
       "      <th>date</th>\n",
       "      <th>venue</th>\n",
       "      <th>title</th>\n",
       "      <th>link</th>\n",
       "    </tr>\n",
       "  </thead>\n",
       "  <tbody>\n",
       "    <tr>\n",
       "      <th>0</th>\n",
       "      <td>30 Mar 2022</td>\n",
       "      <td>Virtual</td>\n",
       "      <td>Virtual Event: Accelerating Data &amp; Automation...</td>\n",
       "      <td>https://publicsectornetwork.co/event/virtual-e...</td>\n",
       "    </tr>\n",
       "    <tr>\n",
       "      <th>1</th>\n",
       "      <td>30 Mar 2022</td>\n",
       "      <td>Virtual</td>\n",
       "      <td>Virtual Event: Government Digital Insights US...</td>\n",
       "      <td>https://publicsectornetwork.co/event/virtual-e...</td>\n",
       "    </tr>\n",
       "    <tr>\n",
       "      <th>2</th>\n",
       "      <td>5 Apr 2022</td>\n",
       "      <td>Roadshow</td>\n",
       "      <td>Roadshow 2022: Local Government and Municipal...</td>\n",
       "      <td>https://publicsectornetwork.co/event/roadshow-...</td>\n",
       "    </tr>\n",
       "    <tr>\n",
       "      <th>3</th>\n",
       "      <td>5 Apr 2022</td>\n",
       "      <td>Virtual</td>\n",
       "      <td>Virtual Event: Data Management &amp; Analytics Na...</td>\n",
       "      <td>https://publicsectornetwork.co/event/virtual-e...</td>\n",
       "    </tr>\n",
       "    <tr>\n",
       "      <th>4</th>\n",
       "      <td>6 Apr 2022</td>\n",
       "      <td>Showcase</td>\n",
       "      <td>Edutech 2022- Canada</td>\n",
       "      <td>https://publicsectornetwork.co/event/edutech-2...</td>\n",
       "    </tr>\n",
       "  </tbody>\n",
       "</table>\n",
       "</div>"
      ],
      "text/plain": [
       "          date     venue                                              title  \\\n",
       "0  30 Mar 2022   Virtual   Virtual Event: Accelerating Data & Automation...   \n",
       "1  30 Mar 2022   Virtual   Virtual Event: Government Digital Insights US...   \n",
       "2   5 Apr 2022  Roadshow   Roadshow 2022: Local Government and Municipal...   \n",
       "3   5 Apr 2022   Virtual   Virtual Event: Data Management & Analytics Na...   \n",
       "4   6 Apr 2022  Showcase                               Edutech 2022- Canada   \n",
       "\n",
       "                                                link  \n",
       "0  https://publicsectornetwork.co/event/virtual-e...  \n",
       "1  https://publicsectornetwork.co/event/virtual-e...  \n",
       "2  https://publicsectornetwork.co/event/roadshow-...  \n",
       "3  https://publicsectornetwork.co/event/virtual-e...  \n",
       "4  https://publicsectornetwork.co/event/edutech-2...  "
      ]
     },
     "execution_count": 17,
     "metadata": {},
     "output_type": "execute_result"
    }
   ],
   "source": [
    "df.head()"
   ]
  },
  {
   "cell_type": "code",
   "execution_count": 46,
   "id": "c7b79f96",
   "metadata": {},
   "outputs": [],
   "source": [
    "df = df.to_json(orient='split')"
   ]
  },
  {
   "cell_type": "code",
   "execution_count": 47,
   "id": "f942377f",
   "metadata": {},
   "outputs": [
    {
     "data": {
      "text/plain": [
       "'{\"columns\":[\"date\",\"venue\",\"title\"],\"index\":[0,1,2,3,4,5,6,7,8,9,10,11,12,13,14,15,16,17,18,19,20,21,22,23,24,25,26,27,28,29,30,31,32,33,34,35,36,37,38,39,40,41,42,43,44,45,46,47,48,49,50,51,52,53],\"data\":[[\"29 Mar 2022\",\"Virtual\",\" Virtual Event: Defence, Security and Justice National Insights \\\\u2013 Spring Edition \\\\u2013 Canada\"],[\"30 Mar 2022\",\"Virtual\",\" Virtual Event: Accelerating Data & Automation Transformation in the Public Service\"],[\"30 Mar 2022\",\"Virtual\",\" Virtual Event: Government Digital Insights USA \\\\u2013 Winter Edition\"],[\"5 Apr 2022\",\"Roadshow\",\" Roadshow 2022: Local Government and Municipalities\"],[\"5 Apr 2022\",\"Virtual\",\" Virtual Event: Data Management & Analytics National Insights \\\\u2013 Spring Edition \\\\u2013 Canada\"],[\"6 Apr 2022\",\"Showcase\",\" Edutech 2022- Canada\"],[\"6 Apr 2022\",\"Virtual\",\" Virtual Event: Government Data Insights \\\\u2013 Spring Edition USA\"],[\"7 Apr 2022\",\"Training\",\" Online Training \\\\u2013 Driving Wellbeing Through Leadership 2022\"],[\"12 Apr 2022\",\"Roadshow\",\" Aotearoa NZ Data & AI Executive Event 2022\"],[\"13 Apr 2022\",\"Virtual\",\" Virtual Event: Cyber Security & Risk Management National Insights \\\\u2013 Spring Edition \\\\u2013 Canada\"],[\"13 Apr 2022\",\"Virtual\",\" Virtual Event: Refining IT Infrastructure Initiatives to Further Aotearoa\\\\u2019s Digital Strategy\"],[\"20 Apr 2022\",\"Virtual\",\" Virtual Event: Federal IT Insights \\\\u2013 USA\"],[\"26 Apr 2022\",\"Showcase\",\" PSIS Atlantic 2022- Canada\"],[\"27 Apr 2022\",\"Virtual\",\" Virtual Event: Health & Human Services: National Insights \\\\u2013 Spring Edition \\\\u2013 Canada\"],[\"27 Apr 2022\",\"Virtual\",\" Virtual Event: Federal HR Insights \\\\u2013 USA\"],[\"27 Apr 2022\",\"Virtual\",\" Virtual Event: Digitising and Scaling Corporate Services for Back Office Transformation\"],[\"28 Apr 2022\",\"Virtual\",\" Virtual Event: Harnessing Emerging Technologies for Citizen Outcomes\"],[\"3 May 2022\",\"Showcase\",\" PSIS Event: Government Innovation \\\\u2013 New York\"],[\"4 May 2022\",\"Virtual\",\" Virtual Event: Digital Government and CX National Insights \\\\u2013 Spring Edition \\\\u2013 Canada\"],[\"4 May 2022\",\"Virtual\",\" Virtual Event: Driving an Accessible, Progressive and Secure Healthcare System Q2 2022 AU\"],[\"5 May 2022\",\"Virtual\",\" Virtual Event: Corporate and Shared Services National Insights: Summer Edition\"],[\"9 May 2022\",\"Roadshow\",\" Roadshow 2022: Health & Human Services \\\\u2013 Canada\"],[\"11 May 2022\",\"Virtual\",\" Virtual Event: Government IT Insights \\\\u2013 Spring Edition USA\"],[\"11 May 2022\",\"Training\",\" Online Training: Optimising Governance, Reporting & Decision Making\"],[\"12 May 2022\",\"Training\",\" Online Training \\\\u2013 ICT Strategy and Architecture for a Disruptive Environment\"],[\"18 May 2022\",\"Virtual\",\" Virtual Event: Government HR Insights USA \\\\u2013 Spring Edition\"],[\"18 May 2022\",\"Virtual\",\" Virtual Event: Smart Cities & Infrastructure National Insights Canada \\\\u2013 Spring Edition\"],[\"19 May 2022\",\"Roadshow\",\" Roadshow 2022: Defence, Security and Justice AU\"],[\"19 May 2022\",\"Virtual\",\" Virtual Event: Evolving Capabilities through Collaboration, Technology and Risk Awareness\"],[\"24 May 2022\",\"Virtual\",\" Virtual Event: Developing Autonomous Data Competencies for Real Value & Analytics- Readiness\"],[\"25 May 2022\",\"Showcase\",\" PSIS Event: Government Innovation \\\\u2013 Washington \\\\u2013 USA\"],[\"26 May 2022\",\"Virtual\",\" Virtual Event: Hitting Digital Transformation Targets across the Public Sector Q2 2022 AU\"],[\"1 Jun 2022\",\"Virtual\",\" Virtual Event: Local Government National Insights \\\\u2013 Spring Edition\"],[\"1 Jun 2022\",\"Virtual\",\" Virtual Event: USA Federal Data Insights\"],[\"1 Jun 2022\",\"Virtual\",\" Virtual Event: Modernising Council Services to Revolutionise Customer Experience\"],[\"1 Jun 2022\",\"Virtual\",\" Virtual Event: Driving Data & Analytics Excellence in the NZ Government\"],[\"2 Jun 2022\",\"Training\",\" Achieving the Change Required to Lift Your Cyber Resilience Q2 2022\"],[\"2 Jun 2022\",\"Virtual\",\" Virtual Event: HR & Future of Work National Insights \\\\u2013 Spring Edition\"],[\"2 Jun 2022\",\"Virtual\",\" Future-Focused Investments\\\\u00a0to Support\\\\u00a0a Sustainable Future\"],[\"6 Jun 2022\",\"Roadshow\",\" Roadshow 2022: Data Management & Analytics \\\\u2013 Canada\"],[\"7 Jun 2022\",\"Training\",\" Online Training \\\\u2013 Data Visualisation & Storytelling for Government\"],[\"8 Jun 2022\",\"Virtual\",\" Virtual Event: Government Cyber Insights USA \\\\u2013 Spring Edition\"],[\"14 Jun 2022\",\"Roadshow\",\" Roadshow 2022: HR and Future of Work\"],[\"15 Jun 2022\",\"Training\",\" Online Training: Precinct Planning and Development Q2 2022\"],[\"15 Jun 2022\",\"Training\",\" Online Training: Effective Communication for Local Government\"],[\"16 Jun 2022\",\"Virtual\",\" Online Training Q2: Citizen-Centric Design and Delivery 2022\"],[\"16 Jun 2022\",\"Virtual\",\" Virtual Event: Improving Response and Preparedness for More Resilient Frontline Services Q2 2022 AU\"],[\"22 Jun 2022\",\"Showcase\",\" PSIS Prairies 2022- Canada\"],[\"29 Jun 2022\",\"Training\",\" Online Training Q2: Re-engineer Your Workforce Capabilities & Capacity to Excel Under Pressure 2022 AU\"],[\"29 Jun 2022\",\"Showcase\",\" Innovate SA 2022\"],[\"30 Jun 2022\",\"Showcase\",\" PSIS Event: Government Innovation Massachusetts\"],[\"7 Sep 2022\",\"Showcase\",\" Queensland Digital 2022\"],[\"14 Sep 2022\",\"Showcase\",\" PSIS Ontario 2022 \\\\u2013 Canada\"],[\"11 Oct 2022\",\"Showcase\",\" Cyber Collaborate: The Australian Cyber Security Conference\"]]}'"
      ]
     },
     "execution_count": 47,
     "metadata": {},
     "output_type": "execute_result"
    }
   ],
   "source": [
    "df"
   ]
  },
  {
   "cell_type": "code",
   "execution_count": null,
   "id": "2e1daa85",
   "metadata": {},
   "outputs": [],
   "source": []
  },
  {
   "cell_type": "code",
   "execution_count": null,
   "id": "529858ec",
   "metadata": {},
   "outputs": [],
   "source": []
  },
  {
   "cell_type": "code",
   "execution_count": 20,
   "id": "0a59b758",
   "metadata": {},
   "outputs": [],
   "source": [
    "# date = article[0].find('span',{'class':'meta-category'})"
   ]
  },
  {
   "cell_type": "code",
   "execution_count": 22,
   "id": "38c8e818",
   "metadata": {},
   "outputs": [
    {
     "data": {
      "text/plain": [
       "'29 Mar 2022'"
      ]
     },
     "execution_count": 22,
     "metadata": {},
     "output_type": "execute_result"
    }
   ],
   "source": [
    "# date.text.strip()"
   ]
  },
  {
   "cell_type": "code",
   "execution_count": 24,
   "id": "4400f360",
   "metadata": {},
   "outputs": [
    {
     "data": {
      "text/plain": [
       "'Virtual'"
      ]
     },
     "execution_count": 24,
     "metadata": {},
     "output_type": "execute_result"
    }
   ],
   "source": [
    "# venue = article[0].find('span')\n",
    "# venue.text"
   ]
  },
  {
   "cell_type": "code",
   "execution_count": 30,
   "id": "76917ce9",
   "metadata": {},
   "outputs": [
    {
     "data": {
      "text/plain": [
       "' Virtual Event: Data Management & Analytics National Insights – Spring Edition – Canada'"
      ]
     },
     "execution_count": 30,
     "metadata": {},
     "output_type": "execute_result"
    }
   ],
   "source": [
    "# article[4].find('h3').text"
   ]
  },
  {
   "cell_type": "code",
   "execution_count": null,
   "id": "9a073bd1",
   "metadata": {},
   "outputs": [],
   "source": []
  }
 ],
 "metadata": {
  "kernelspec": {
   "display_name": "Python 3 (ipykernel)",
   "language": "python",
   "name": "python3"
  },
  "language_info": {
   "codemirror_mode": {
    "name": "ipython",
    "version": 3
   },
   "file_extension": ".py",
   "mimetype": "text/x-python",
   "name": "python",
   "nbconvert_exporter": "python",
   "pygments_lexer": "ipython3",
   "version": "3.9.7"
  }
 },
 "nbformat": 4,
 "nbformat_minor": 5
}
