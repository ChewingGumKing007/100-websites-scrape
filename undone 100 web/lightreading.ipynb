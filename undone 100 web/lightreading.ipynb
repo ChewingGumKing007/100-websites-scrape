{
 "cells": [
  {
   "cell_type": "code",
   "execution_count": 1,
   "id": "8ee1bc0b",
   "metadata": {},
   "outputs": [],
   "source": [
    "url = 'https://www.lightreading.com/events.asp'"
   ]
  },
  {
   "cell_type": "code",
   "execution_count": 2,
   "id": "c7ecd5eb",
   "metadata": {},
   "outputs": [],
   "source": [
    "# -*- coding: utf-8 -*-\n",
    "\"\"\"\n",
    "Created on Tue Feb  8 15:45:44 2022\n",
    "\n",
    "@author: ChewingGumKing_OJF\n",
    "\"\"\"\n",
    "\n",
    "#loads necessary libraries\n",
    "from selenium import webdriver\n",
    "import time\n",
    "from selenium.webdriver.common.keys import Keys \n",
    "from selenium.webdriver.common.action_chains import ActionChains\n",
    "from selenium.webdriver.common.keys import Keys\n",
    "import os\n",
    "from datetime import datetime\n",
    "from datetime import date\n",
    "import openpyxl\n",
    "#import pyautogui\n",
    "from selenium.webdriver.common.action_chains import ActionChains\n",
    "#import shutil\n",
    "#import glob\n",
    "import os\n",
    "import warnings\n",
    "#import itertools\n",
    "import json\n",
    "import pandas as pd\n",
    "import pyperclip as pc\n",
    "from bs4 import BeautifulSoup as bs\n",
    "import re\n",
    "from random import randint\n",
    "from selenium.common.exceptions import TimeoutException\n",
    "from selenium.webdriver.support.ui import WebDriverWait\n",
    "from selenium.webdriver.support import expected_conditions as EC\n",
    "from selenium.webdriver.common.by import By\n",
    "#import sys\n",
    "warnings.filterwarnings(\"ignore\")\n"
   ]
  },
  {
   "cell_type": "code",
   "execution_count": 3,
   "id": "828cd3d3",
   "metadata": {},
   "outputs": [],
   "source": [
    "driver = webdriver.Chrome(r'C:\\Users\\840 g3\\Desktop\\chromedriver.exe')"
   ]
  },
  {
   "cell_type": "code",
   "execution_count": 4,
   "id": "54327522",
   "metadata": {},
   "outputs": [],
   "source": [
    "driver.get(url)"
   ]
  },
  {
   "cell_type": "code",
   "execution_count": 5,
   "id": "3f6f945e",
   "metadata": {},
   "outputs": [],
   "source": [
    "try:\n",
    "    driver.maximize_window()\n",
    "except:\n",
    "    pass"
   ]
  },
  {
   "cell_type": "code",
   "execution_count": 6,
   "id": "6f800058",
   "metadata": {},
   "outputs": [],
   "source": [
    "soup = bs(driver.page_source,'lxml')"
   ]
  },
  {
   "cell_type": "code",
   "execution_count": 7,
   "id": "6cb274bd",
   "metadata": {},
   "outputs": [],
   "source": [
    "cards = soup.find_all('div',{'class':'event-card'})"
   ]
  },
  {
   "cell_type": "code",
   "execution_count": 64,
   "id": "ad5b8360",
   "metadata": {},
   "outputs": [],
   "source": [
    "data = []\n",
    "for i in cards:\n",
    "    date = i.find('span',{'class':'date'}).text\n",
    "    title = i.find('a').text.strip()\n",
    "    links=i.find('a')['href']\n",
    "    data.append([date,title,link])\n",
    "    "
   ]
  },
  {
   "cell_type": "code",
   "execution_count": 66,
   "id": "06d904a3",
   "metadata": {},
   "outputs": [],
   "source": [
    "df = pd.DataFrame(columns=['date','title'],data=data)"
   ]
  },
  {
   "cell_type": "code",
   "execution_count": 67,
   "id": "a101f930",
   "metadata": {},
   "outputs": [
    {
     "data": {
      "text/html": [
       "<div>\n",
       "<style scoped>\n",
       "    .dataframe tbody tr th:only-of-type {\n",
       "        vertical-align: middle;\n",
       "    }\n",
       "\n",
       "    .dataframe tbody tr th {\n",
       "        vertical-align: top;\n",
       "    }\n",
       "\n",
       "    .dataframe thead th {\n",
       "        text-align: right;\n",
       "    }\n",
       "</style>\n",
       "<table border=\"1\" class=\"dataframe\">\n",
       "  <thead>\n",
       "    <tr style=\"text-align: right;\">\n",
       "      <th></th>\n",
       "      <th>date</th>\n",
       "      <th>title</th>\n",
       "    </tr>\n",
       "  </thead>\n",
       "  <tbody>\n",
       "    <tr>\n",
       "      <th>0</th>\n",
       "      <td>April 5 &amp; 7, 2022</td>\n",
       "      <td>Open RAN Two Day Digital Symposium</td>\n",
       "    </tr>\n",
       "    <tr>\n",
       "      <th>1</th>\n",
       "      <td>April 26 2022</td>\n",
       "      <td>APAC - Next-Gen Broadband &amp; Asia TechTwo Day D...</td>\n",
       "    </tr>\n",
       "    <tr>\n",
       "      <th>2</th>\n",
       "      <td>June 7 &amp; 9, 2022</td>\n",
       "      <td>5G Orchestration &amp; Service Assurance  Two Day ...</td>\n",
       "    </tr>\n",
       "    <tr>\n",
       "      <th>3</th>\n",
       "      <td>June 21, 2022</td>\n",
       "      <td>Cable Next-Gen Europe One Day Live Event</td>\n",
       "    </tr>\n",
       "    <tr>\n",
       "      <th>4</th>\n",
       "      <td>September 13 &amp; 15, 2022</td>\n",
       "      <td>Optical Networking Two Day Digital Symposium</td>\n",
       "    </tr>\n",
       "  </tbody>\n",
       "</table>\n",
       "</div>"
      ],
      "text/plain": [
       "                      date                                              title\n",
       "0        April 5 & 7, 2022                 Open RAN Two Day Digital Symposium\n",
       "1            April 26 2022  APAC - Next-Gen Broadband & Asia TechTwo Day D...\n",
       "2         June 7 & 9, 2022  5G Orchestration & Service Assurance  Two Day ...\n",
       "3            June 21, 2022           Cable Next-Gen Europe One Day Live Event\n",
       "4  September 13 & 15, 2022       Optical Networking Two Day Digital Symposium"
      ]
     },
     "execution_count": 67,
     "metadata": {},
     "output_type": "execute_result"
    }
   ],
   "source": [
    "df.head()"
   ]
  },
  {
   "cell_type": "code",
   "execution_count": 68,
   "id": "898ce14c",
   "metadata": {},
   "outputs": [],
   "source": [
    "df = df.to_json(orient='split')"
   ]
  },
  {
   "cell_type": "code",
   "execution_count": 69,
   "id": "ddafcfc0",
   "metadata": {},
   "outputs": [
    {
     "data": {
      "text/plain": [
       "'{\"columns\":[\"date\",\"title\"],\"index\":[0,1,2,3,4,5,6,7,8,9,10,11,12,13,14,15,16,17,18,19,20,21,22,23,24,25,26,27,28,29],\"data\":[[\"April 5 & 7, 2022\",\"Open RAN Two Day Digital Symposium\"],[\"April 26 2022\",\"APAC - Next-Gen Broadband & Asia TechTwo Day Digital Symposium\"],[\"June 7 & 9, 2022\",\"5G Orchestration & Service Assurance  Two Day Digital Symposium\"],[\"June 21, 2022\",\"Cable Next-Gen Europe One Day Live Event\"],[\"September 13 & 15, 2022\",\"Optical Networking Two Day Digital Symposium\"],[\"September 20 & 22, 2022\",\"Edge ComputingTwo Day Digital Symposium\"],[\"September 20, 2022\",\"Transforming the Cable HFC Network Breakfast Event at SCTE Cable-Tec Expo\"],[\"September 21, 2022\",\"Cable: 5G\\'s Friend or Foe? Breakfast Event at SCTE Cable-Tec Expo\"],[\"October 4 and 6, 2022\",\"The Programmable TelcoTwo Day Digital Symposium\"],[\"November 15 and 17, 2022\",\"5G Next Wave and Service Evolution Two Day Digital Symposium\"],[\"November 3, 2022\",\"5G Transport & Networking StrategiesOne Day Live Event\"],[\"November 10, 2022\",\"Asia Tech 2022 One Day Digital Symposium\"],[\"October 18 and 20, 2022\",\"Open RAN Two Day Digital Symposium\"],[\"December 6, 2022\",\"Cable Next-Gen Business Services One Day Digital Symposium\"],[\"December 8, 2022\",\"Service Provider Security Strategies for the Hybrid EraOne Day Digital Symposium\"],[\"April 26th-28th, 2022\",\"Telco AI World SummitBerlin\"],[\"April 26th-28th, 2022\",\"OpenRAN WorldBerlin\"],[\"May 10 - 12, 2022\",\"ANGA COM 2021Koelnmesse \\\\/ Cologne Fairgrounds, Cologne, Germany\"],[\"May 17-18, 2022\",\"Big 5G Event Austin, TX\"],[\"May 30 - June 1, 2022\",\"5G MENADubai\"],[\"June 8-9, 2022\",\"MVNOs World & IoT World Connectivity SummitBerlin\"],[\"June 15-16, 2022\",\"The Edge EventLondon\"],[\"June 15-16, 2022\",\"Private Networks in a 5G WorldLondon\"],[\"June 21-22, 2022\",\"NGON & DCI WorldBarcelona\"],[\"September 27-28, 2022\",\"Global Carrier Billing SummitBerlin\"],[\"October 18-20, 2022\",\"5G WorldAmsterdam\"],[\"October 18-20, 2022\",\"Network XAmsterdam\"],[\"October 18-20, 2022\",\"Broadband World ForumAmsterdam\"],[\"November 8-9, 2022\",\"OpenRAN North AmericaNew York City\"],[\"December 7-8, 2022\",\"Future Vision Executive SummitBruges\"]]}'"
      ]
     },
     "execution_count": 69,
     "metadata": {},
     "output_type": "execute_result"
    }
   ],
   "source": [
    "df"
   ]
  },
  {
   "cell_type": "code",
   "execution_count": null,
   "id": "00c9ceaf",
   "metadata": {},
   "outputs": [],
   "source": []
  }
 ],
 "metadata": {
  "kernelspec": {
   "display_name": "Python 3 (ipykernel)",
   "language": "python",
   "name": "python3"
  },
  "language_info": {
   "codemirror_mode": {
    "name": "ipython",
    "version": 3
   },
   "file_extension": ".py",
   "mimetype": "text/x-python",
   "name": "python",
   "nbconvert_exporter": "python",
   "pygments_lexer": "ipython3",
   "version": "3.9.7"
  }
 },
 "nbformat": 4,
 "nbformat_minor": 5
}
