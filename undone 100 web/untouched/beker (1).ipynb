{
 "cells": [
  {
   "cell_type": "code",
   "execution_count": 164,
   "id": "fabe545b",
   "metadata": {},
   "outputs": [],
   "source": [
    "url = 'https://www.beckershospitalreview.com/virtual-conferences.html'"
   ]
  },
  {
   "cell_type": "code",
   "execution_count": 165,
   "id": "b17fb950",
   "metadata": {},
   "outputs": [],
   "source": [
    "from selenium import webdriver\n",
    "import pandas as pd\n",
    "from bs4 import BeautifulSoup as bs\n",
    "import time"
   ]
  },
  {
   "cell_type": "code",
   "execution_count": 166,
   "id": "80435611",
   "metadata": {},
   "outputs": [
    {
     "name": "stderr",
     "output_type": "stream",
     "text": [
      "C:\\Users\\DELL\\AppData\\Local\\Temp/ipykernel_12100/4221860842.py:1: DeprecationWarning: executable_path has been deprecated, please pass in a Service object\n",
      "  driver = webdriver.Edge(r'C:\\Users\\DELL\\Documents\\msedgedriver.exe')\n"
     ]
    }
   ],
   "source": [
    "driver = webdriver.Edge(r'C:\\Users\\DELL\\Documents\\msedgedriver.exe')"
   ]
  },
  {
   "cell_type": "code",
   "execution_count": 167,
   "id": "496dca8a",
   "metadata": {},
   "outputs": [],
   "source": [
    "driver.get(url)"
   ]
  },
  {
   "cell_type": "code",
   "execution_count": 168,
   "id": "c762db4c",
   "metadata": {},
   "outputs": [],
   "source": [
    "soup = bs(driver.page_source,'lxml')"
   ]
  },
  {
   "cell_type": "code",
   "execution_count": 169,
   "id": "18501862",
   "metadata": {},
   "outputs": [],
   "source": [
    "end = 'Past Virtual Events'"
   ]
  },
  {
   "cell_type": "code",
   "execution_count": 170,
   "id": "f2049f1d",
   "metadata": {},
   "outputs": [],
   "source": [
    "start = 'Upcoming Virtual Events'"
   ]
  },
  {
   "cell_type": "code",
   "execution_count": 171,
   "id": "d24a8246",
   "metadata": {},
   "outputs": [],
   "source": [
    "lst = soup.find_all('li')"
   ]
  },
  {
   "cell_type": "code",
   "execution_count": 172,
   "id": "75cd2b31",
   "metadata": {},
   "outputs": [],
   "source": [
    "for i,j in enumerate(lst):\n",
    "    if start in j.text:\n",
    "        tag_start = i\n",
    "    if end in j.text:\n",
    "        tag_end = i"
   ]
  },
  {
   "cell_type": "code",
   "execution_count": 173,
   "id": "951e27c0",
   "metadata": {},
   "outputs": [],
   "source": [
    "events = lst[tag_start+1:tag_end]\n"
   ]
  },
  {
   "cell_type": "code",
   "execution_count": 174,
   "id": "5d3f7286",
   "metadata": {},
   "outputs": [],
   "source": [
    "data = []\n",
    "for k in events:\n",
    "    link = k.find('a')['href']\n",
    "    title = k.text\n",
    "    data.append([title,link])"
   ]
  },
  {
   "cell_type": "code",
   "execution_count": 175,
   "id": "08855c19",
   "metadata": {},
   "outputs": [
    {
     "data": {
      "text/plain": [
       "[['Physician Leadership Virtual Forum',\n",
       "  'https://events.beckershospitalreview.com/physicianleadership2022/p/1?=email&utm_content=dropdown'],\n",
       " ['The Business of Dentistry Virtual Forum',\n",
       "  'https://events.beckershospitalreview.com/businessofdentistry2022/p/1?=email&utm_content=dropdown'],\n",
       " ['Nursing Leadership Virtual Forum',\n",
       "  'https://events.beckershospitalreview.com/nursingleadership2022/p/1?=email&utm_content=dropdown'],\n",
       " ['Cardiology Virtual Forum',\n",
       "  'https://events.beckershospitalreview.com/cardiology2022/p/1?=email&utm_content=dropdown'],\n",
       " ['Data + Innovation Virtual Event ',\n",
       "  'https://events.beckershospitalreview.com/data-innovation2022/p/1?=email&utm_content=dropdown'],\n",
       " ['The Shift to Digital Virtual Event',\n",
       "  'https://events.beckershospitalreview.com/shifttodigital2022/p/1?=email&utm_content=dropdown'],\n",
       " ['Laboratory Virtual Forum',\n",
       "  'https://events.beckershospitalreview.com/laboratoryforum2022/p/1?=email&utm_content=dropdown']]"
      ]
     },
     "execution_count": 175,
     "metadata": {},
     "output_type": "execute_result"
    }
   ],
   "source": [
    "data"
   ]
  },
  {
   "cell_type": "code",
   "execution_count": 182,
   "id": "142514a8",
   "metadata": {},
   "outputs": [
    {
     "name": "stderr",
     "output_type": "stream",
     "text": [
      "C:\\Users\\DELL\\AppData\\Local\\Temp/ipykernel_12100/95532622.py:6: DeprecationWarning: find_element_by_* commands are deprecated. Please use find_element() instead\n",
      "  date = driver.find_element_by_xpath('/html/body/div[1]/div[1]/div[6]/div[2]/div/div[14]').get_attribute('innerHTML')\n"
     ]
    },
    {
     "name": "stdout",
     "output_type": "stream",
     "text": [
      "April 4, 2022 // 1 - 3 PM CT\n"
     ]
    },
    {
     "name": "stderr",
     "output_type": "stream",
     "text": [
      "C:\\Users\\DELL\\AppData\\Local\\Temp/ipykernel_12100/95532622.py:14: DeprecationWarning: find_element_by_* commands are deprecated. Please use find_element() instead\n",
      "  date = driver.find_element_by_xpath('/html/body/div[1]/div[1]/div[8]/div[2]/div/div[15]').get_attribute('innerHTML')\n"
     ]
    },
    {
     "name": "stdout",
     "output_type": "stream",
     "text": [
      "April 13, 2022 // 10 AM - 1 PM CT\n",
      "May 10, 2022 // 1-3 PM CT\n",
      "May 18, 2022 // 10 AM - 12 PM CT\n",
      "May 25-26, 2022 // 1-3 PM CT\n"
     ]
    },
    {
     "name": "stderr",
     "output_type": "stream",
     "text": [
      "C:\\Users\\DELL\\AppData\\Local\\Temp/ipykernel_12100/95532622.py:9: DeprecationWarning: find_element_by_* commands are deprecated. Please use find_element() instead\n",
      "  date = driver.find_element_by_xpath('/html/body/div[1]/div[1]/div[8]/div[2]/div/div[15]').get_attribute('innerHTML')\n",
      "C:\\Users\\DELL\\AppData\\Local\\Temp/ipykernel_12100/95532622.py:11: DeprecationWarning: find_element_by_* commands are deprecated. Please use find_element() instead\n",
      "  date = driver.find_element_by_xpath('/html/body/div[1]/div[1]/div[6]/div[2]/div/div[15]').get_attribute('innerHTML')\n"
     ]
    },
    {
     "name": "stdout",
     "output_type": "stream",
     "text": [
      "June 1-2, 2022 // 10 AM - 12 PM CT\n"
     ]
    },
    {
     "ename": "WebDriverException",
     "evalue": "Message: unknown error: net::ERR_NAME_NOT_RESOLVED\n  (Session info: MicrosoftEdge=99.0.1150.55)\nStacktrace:\nBacktrace:\n\tMicrosoft::Applications::Events::EventProperties::unpack [0x00007FF714331932+25346]\n\tMicrosoft::Applications::Events::time_ticks_t::time_ticks_t [0x00007FF71426E992+515810]\n\tOrdinal0 [0x00007FF713D80BC5+658373]\n\tOrdinal0 [0x00007FF713D7A7D3+632787]\n\tOrdinal0 [0x00007FF713D6DC01+580609]\n\tOrdinal0 [0x00007FF713D6E9D7+584151]\n\tOrdinal0 [0x00007FF713D6DE9F+581279]\n\tOrdinal0 [0x00007FF713D6D288+578184]\n\tOrdinal0 [0x00007FF713D6BFF4+573428]\n\tOrdinal0 [0x00007FF713D6C3AC+574380]\n\tOrdinal0 [0x00007FF713D82600+665088]\n\tOrdinal0 [0x00007FF713DEB9E2+1096162]\n\tOrdinal0 [0x00007FF713DD6C3A+1010746]\n\tOrdinal0 [0x00007FF713DEB034+1093684]\n\tOrdinal0 [0x00007FF713DD6A53+1010259]\n\tOrdinal0 [0x00007FF713DADB47+842567]\n\tOrdinal0 [0x00007FF713DAF018+847896]\n\tMicrosoft::Applications::Events::EventProperty::to_string [0x00007FF713F3F1C8+827304]\n\tMicrosoft::Applications::Events::EventProperty::EventProperty [0x00007FF714029389+34681]\n\tMicrosoft::Applications::Events::EventProperty::EventProperty [0x00007FF71402C562+47442]\n\tMicrosoft::Applications::Events::EventProperty::to_string [0x00007FF713E7C6D6+29878]\n\tMicrosoft::Applications::Events::time_ticks_t::time_ticks_t [0x00007FF714275981+544465]\n\tMicrosoft::Applications::Events::time_ticks_t::time_ticks_t [0x00007FF71427A984+564948]\n\tMicrosoft::Applications::Events::time_ticks_t::time_ticks_t [0x00007FF71427AADD+565293]\n\tMicrosoft::Applications::Events::time_ticks_t::time_ticks_t [0x00007FF7142848CE+605726]\n\tBaseThreadInitThunk [0x00007FFCEA737034+20]\n\tRtlUserThreadStart [0x00007FFCEADE2651+33]\n",
     "output_type": "error",
     "traceback": [
      "\u001b[1;31m---------------------------------------------------------------------------\u001b[0m",
      "\u001b[1;31mWebDriverException\u001b[0m                        Traceback (most recent call last)",
      "\u001b[1;32m~\\AppData\\Local\\Temp/ipykernel_12100/95532622.py\u001b[0m in \u001b[0;36m<module>\u001b[1;34m\u001b[0m\n\u001b[0;32m      1\u001b[0m \u001b[1;32mfor\u001b[0m \u001b[0ma\u001b[0m\u001b[1;33m,\u001b[0m\u001b[0ml\u001b[0m \u001b[1;32min\u001b[0m \u001b[0menumerate\u001b[0m\u001b[1;33m(\u001b[0m\u001b[0mdata\u001b[0m\u001b[1;33m)\u001b[0m\u001b[1;33m:\u001b[0m\u001b[1;33m\u001b[0m\u001b[1;33m\u001b[0m\u001b[0m\n\u001b[0;32m      2\u001b[0m \u001b[1;33m\u001b[0m\u001b[0m\n\u001b[1;32m----> 3\u001b[1;33m     \u001b[0mdriver\u001b[0m\u001b[1;33m.\u001b[0m\u001b[0mget\u001b[0m\u001b[1;33m(\u001b[0m\u001b[0ml\u001b[0m\u001b[1;33m[\u001b[0m\u001b[1;36m1\u001b[0m\u001b[1;33m]\u001b[0m\u001b[1;33m)\u001b[0m\u001b[1;33m\u001b[0m\u001b[1;33m\u001b[0m\u001b[0m\n\u001b[0m\u001b[0;32m      4\u001b[0m     \u001b[0mtime\u001b[0m\u001b[1;33m.\u001b[0m\u001b[0msleep\u001b[0m\u001b[1;33m(\u001b[0m\u001b[1;36m20\u001b[0m\u001b[1;33m)\u001b[0m\u001b[1;33m\u001b[0m\u001b[1;33m\u001b[0m\u001b[0m\n\u001b[0;32m      5\u001b[0m     \u001b[1;32mtry\u001b[0m\u001b[1;33m:\u001b[0m\u001b[1;33m\u001b[0m\u001b[1;33m\u001b[0m\u001b[0m\n",
      "\u001b[1;32mc:\\users\\dell\\appdata\\local\\programs\\python\\python39\\lib\\site-packages\\selenium\\webdriver\\remote\\webdriver.py\u001b[0m in \u001b[0;36mget\u001b[1;34m(self, url)\u001b[0m\n\u001b[0;32m    434\u001b[0m         \u001b[0mLoads\u001b[0m \u001b[0ma\u001b[0m \u001b[0mweb\u001b[0m \u001b[0mpage\u001b[0m \u001b[1;32min\u001b[0m \u001b[0mthe\u001b[0m \u001b[0mcurrent\u001b[0m \u001b[0mbrowser\u001b[0m \u001b[0msession\u001b[0m\u001b[1;33m.\u001b[0m\u001b[1;33m\u001b[0m\u001b[1;33m\u001b[0m\u001b[0m\n\u001b[0;32m    435\u001b[0m         \"\"\"\n\u001b[1;32m--> 436\u001b[1;33m         \u001b[0mself\u001b[0m\u001b[1;33m.\u001b[0m\u001b[0mexecute\u001b[0m\u001b[1;33m(\u001b[0m\u001b[0mCommand\u001b[0m\u001b[1;33m.\u001b[0m\u001b[0mGET\u001b[0m\u001b[1;33m,\u001b[0m \u001b[1;33m{\u001b[0m\u001b[1;34m'url'\u001b[0m\u001b[1;33m:\u001b[0m \u001b[0murl\u001b[0m\u001b[1;33m}\u001b[0m\u001b[1;33m)\u001b[0m\u001b[1;33m\u001b[0m\u001b[1;33m\u001b[0m\u001b[0m\n\u001b[0m\u001b[0;32m    437\u001b[0m \u001b[1;33m\u001b[0m\u001b[0m\n\u001b[0;32m    438\u001b[0m     \u001b[1;33m@\u001b[0m\u001b[0mproperty\u001b[0m\u001b[1;33m\u001b[0m\u001b[1;33m\u001b[0m\u001b[0m\n",
      "\u001b[1;32mc:\\users\\dell\\appdata\\local\\programs\\python\\python39\\lib\\site-packages\\selenium\\webdriver\\remote\\webdriver.py\u001b[0m in \u001b[0;36mexecute\u001b[1;34m(self, driver_command, params)\u001b[0m\n\u001b[0;32m    422\u001b[0m         \u001b[0mresponse\u001b[0m \u001b[1;33m=\u001b[0m \u001b[0mself\u001b[0m\u001b[1;33m.\u001b[0m\u001b[0mcommand_executor\u001b[0m\u001b[1;33m.\u001b[0m\u001b[0mexecute\u001b[0m\u001b[1;33m(\u001b[0m\u001b[0mdriver_command\u001b[0m\u001b[1;33m,\u001b[0m \u001b[0mparams\u001b[0m\u001b[1;33m)\u001b[0m\u001b[1;33m\u001b[0m\u001b[1;33m\u001b[0m\u001b[0m\n\u001b[0;32m    423\u001b[0m         \u001b[1;32mif\u001b[0m \u001b[0mresponse\u001b[0m\u001b[1;33m:\u001b[0m\u001b[1;33m\u001b[0m\u001b[1;33m\u001b[0m\u001b[0m\n\u001b[1;32m--> 424\u001b[1;33m             \u001b[0mself\u001b[0m\u001b[1;33m.\u001b[0m\u001b[0merror_handler\u001b[0m\u001b[1;33m.\u001b[0m\u001b[0mcheck_response\u001b[0m\u001b[1;33m(\u001b[0m\u001b[0mresponse\u001b[0m\u001b[1;33m)\u001b[0m\u001b[1;33m\u001b[0m\u001b[1;33m\u001b[0m\u001b[0m\n\u001b[0m\u001b[0;32m    425\u001b[0m             response['value'] = self._unwrap_value(\n\u001b[0;32m    426\u001b[0m                 response.get('value', None))\n",
      "\u001b[1;32mc:\\users\\dell\\appdata\\local\\programs\\python\\python39\\lib\\site-packages\\selenium\\webdriver\\remote\\errorhandler.py\u001b[0m in \u001b[0;36mcheck_response\u001b[1;34m(self, response)\u001b[0m\n\u001b[0;32m    245\u001b[0m                 \u001b[0malert_text\u001b[0m \u001b[1;33m=\u001b[0m \u001b[0mvalue\u001b[0m\u001b[1;33m[\u001b[0m\u001b[1;34m'alert'\u001b[0m\u001b[1;33m]\u001b[0m\u001b[1;33m.\u001b[0m\u001b[0mget\u001b[0m\u001b[1;33m(\u001b[0m\u001b[1;34m'text'\u001b[0m\u001b[1;33m)\u001b[0m\u001b[1;33m\u001b[0m\u001b[1;33m\u001b[0m\u001b[0m\n\u001b[0;32m    246\u001b[0m             \u001b[1;32mraise\u001b[0m \u001b[0mexception_class\u001b[0m\u001b[1;33m(\u001b[0m\u001b[0mmessage\u001b[0m\u001b[1;33m,\u001b[0m \u001b[0mscreen\u001b[0m\u001b[1;33m,\u001b[0m \u001b[0mstacktrace\u001b[0m\u001b[1;33m,\u001b[0m \u001b[0malert_text\u001b[0m\u001b[1;33m)\u001b[0m  \u001b[1;31m# type: ignore[call-arg]  # mypy is not smart enough here\u001b[0m\u001b[1;33m\u001b[0m\u001b[1;33m\u001b[0m\u001b[0m\n\u001b[1;32m--> 247\u001b[1;33m         \u001b[1;32mraise\u001b[0m \u001b[0mexception_class\u001b[0m\u001b[1;33m(\u001b[0m\u001b[0mmessage\u001b[0m\u001b[1;33m,\u001b[0m \u001b[0mscreen\u001b[0m\u001b[1;33m,\u001b[0m \u001b[0mstacktrace\u001b[0m\u001b[1;33m)\u001b[0m\u001b[1;33m\u001b[0m\u001b[1;33m\u001b[0m\u001b[0m\n\u001b[0m\u001b[0;32m    248\u001b[0m \u001b[1;33m\u001b[0m\u001b[0m\n\u001b[0;32m    249\u001b[0m     \u001b[1;32mdef\u001b[0m \u001b[0m_value_or_default\u001b[0m\u001b[1;33m(\u001b[0m\u001b[0mself\u001b[0m\u001b[1;33m,\u001b[0m \u001b[0mobj\u001b[0m\u001b[1;33m:\u001b[0m \u001b[0mMapping\u001b[0m\u001b[1;33m[\u001b[0m\u001b[0m_KT\u001b[0m\u001b[1;33m,\u001b[0m \u001b[0m_VT\u001b[0m\u001b[1;33m]\u001b[0m\u001b[1;33m,\u001b[0m \u001b[0mkey\u001b[0m\u001b[1;33m:\u001b[0m \u001b[0m_KT\u001b[0m\u001b[1;33m,\u001b[0m \u001b[0mdefault\u001b[0m\u001b[1;33m:\u001b[0m \u001b[0m_VT\u001b[0m\u001b[1;33m)\u001b[0m \u001b[1;33m->\u001b[0m \u001b[0m_VT\u001b[0m\u001b[1;33m:\u001b[0m\u001b[1;33m\u001b[0m\u001b[1;33m\u001b[0m\u001b[0m\n",
      "\u001b[1;31mWebDriverException\u001b[0m: Message: unknown error: net::ERR_NAME_NOT_RESOLVED\n  (Session info: MicrosoftEdge=99.0.1150.55)\nStacktrace:\nBacktrace:\n\tMicrosoft::Applications::Events::EventProperties::unpack [0x00007FF714331932+25346]\n\tMicrosoft::Applications::Events::time_ticks_t::time_ticks_t [0x00007FF71426E992+515810]\n\tOrdinal0 [0x00007FF713D80BC5+658373]\n\tOrdinal0 [0x00007FF713D7A7D3+632787]\n\tOrdinal0 [0x00007FF713D6DC01+580609]\n\tOrdinal0 [0x00007FF713D6E9D7+584151]\n\tOrdinal0 [0x00007FF713D6DE9F+581279]\n\tOrdinal0 [0x00007FF713D6D288+578184]\n\tOrdinal0 [0x00007FF713D6BFF4+573428]\n\tOrdinal0 [0x00007FF713D6C3AC+574380]\n\tOrdinal0 [0x00007FF713D82600+665088]\n\tOrdinal0 [0x00007FF713DEB9E2+1096162]\n\tOrdinal0 [0x00007FF713DD6C3A+1010746]\n\tOrdinal0 [0x00007FF713DEB034+1093684]\n\tOrdinal0 [0x00007FF713DD6A53+1010259]\n\tOrdinal0 [0x00007FF713DADB47+842567]\n\tOrdinal0 [0x00007FF713DAF018+847896]\n\tMicrosoft::Applications::Events::EventProperty::to_string [0x00007FF713F3F1C8+827304]\n\tMicrosoft::Applications::Events::EventProperty::EventProperty [0x00007FF714029389+34681]\n\tMicrosoft::Applications::Events::EventProperty::EventProperty [0x00007FF71402C562+47442]\n\tMicrosoft::Applications::Events::EventProperty::to_string [0x00007FF713E7C6D6+29878]\n\tMicrosoft::Applications::Events::time_ticks_t::time_ticks_t [0x00007FF714275981+544465]\n\tMicrosoft::Applications::Events::time_ticks_t::time_ticks_t [0x00007FF71427A984+564948]\n\tMicrosoft::Applications::Events::time_ticks_t::time_ticks_t [0x00007FF71427AADD+565293]\n\tMicrosoft::Applications::Events::time_ticks_t::time_ticks_t [0x00007FF7142848CE+605726]\n\tBaseThreadInitThunk [0x00007FFCEA737034+20]\n\tRtlUserThreadStart [0x00007FFCEADE2651+33]\n"
     ]
    }
   ],
   "source": [
    "for a,l in enumerate(data):\n",
    "    \n",
    "    driver.get(l[1])\n",
    "    time.sleep(20)\n",
    "    try:\n",
    "        date = driver.find_element_by_xpath('/html/body/div[1]/div[1]/div[6]/div[2]/div/div[14]').get_attribute('innerHTML')\n",
    "        if '//' not in date:\n",
    "            try:\n",
    "                date = driver.find_element_by_xpath('/html/body/div[1]/div[1]/div[8]/div[2]/div/div[15]').get_attribute('innerHTML')\n",
    "            except: \n",
    "                date = driver.find_element_by_xpath('/html/body/div[1]/div[1]/div[6]/div[2]/div/div[15]').get_attribute('innerHTML')\n",
    "            \n",
    "    except:\n",
    "        date = driver.find_element_by_xpath('/html/body/div[1]/div[1]/div[8]/div[2]/div/div[15]').get_attribute('innerHTML')\n",
    "    \n",
    "    soup = bs(date,'lxml')\n",
    "    print(soup.text)\n",
    "    #day, _time = date.split('//')\n"
   ]
  },
  {
   "cell_type": "code",
   "execution_count": 159,
   "id": "006c6971",
   "metadata": {},
   "outputs": [
    {
     "data": {
      "text/plain": [
       "'<p style=\"position: relative; top: -5px; padding-right: 2%;\"><span style=\"color:#FFFFFF;letter-spacing:0.05em;position:relative;\">April 4, 2022 // 1 - 3 PM CT</span></p>'"
      ]
     },
     "execution_count": 159,
     "metadata": {},
     "output_type": "execute_result"
    }
   ],
   "source": [
    "date"
   ]
  },
  {
   "cell_type": "code",
   "execution_count": null,
   "id": "d722e76b",
   "metadata": {},
   "outputs": [],
   "source": []
  },
  {
   "cell_type": "code",
   "execution_count": null,
   "id": "8805b391",
   "metadata": {},
   "outputs": [],
   "source": []
  },
  {
   "cell_type": "code",
   "execution_count": 94,
   "id": "1f779b0c",
   "metadata": {},
   "outputs": [
    {
     "data": {
      "text/plain": [
       "3"
      ]
     },
     "execution_count": 94,
     "metadata": {},
     "output_type": "execute_result"
    }
   ],
   "source": [
    "df = pd.DataFrame(data=data)"
   ]
  },
  {
   "cell_type": "code",
   "execution_count": 112,
   "id": "52837a07",
   "metadata": {},
   "outputs": [
    {
     "name": "stderr",
     "output_type": "stream",
     "text": [
      "C:\\Users\\DELL\\AppData\\Local\\Temp/ipykernel_12100/67674584.py:1: DeprecationWarning: find_element_by_* commands are deprecated. Please use find_element() instead\n",
      "  driver.find_element_by_xpath('//*[@id=\"60d4fd73a6130\"]/p/span').get_attribute('innerHTML')\n"
     ]
    },
    {
     "data": {
      "text/plain": [
       "'June 14, 2022 // 10 AM - 12 PM CT'"
      ]
     },
     "execution_count": 112,
     "metadata": {},
     "output_type": "execute_result"
    }
   ],
   "source": [
    "# driver.find_element_by_xpath('//*[@id=\"60d4fd73a6130\"]/p/span').get_attribute('innerHTML')"
   ]
  },
  {
   "cell_type": "code",
   "execution_count": null,
   "id": "a997be6a",
   "metadata": {},
   "outputs": [],
   "source": []
  },
  {
   "cell_type": "code",
   "execution_count": null,
   "id": "eff5c5e8",
   "metadata": {},
   "outputs": [],
   "source": []
  },
  {
   "cell_type": "code",
   "execution_count": 71,
   "id": "48edcd9b",
   "metadata": {},
   "outputs": [
    {
     "name": "stderr",
     "output_type": "stream",
     "text": [
      "C:\\Users\\DELL\\AppData\\Local\\Temp/ipykernel_12100/67674584.py:1: DeprecationWarning: find_element_by_* commands are deprecated. Please use find_element() instead\n",
      "  driver.find_element_by_xpath('//*[@id=\"60d4fd73a6130\"]/p/span').get_attribute('innerHTML')\n"
     ]
    },
    {
     "data": {
      "text/plain": [
       "'April 4, 2022 // 1 - 3 PM CT'"
      ]
     },
     "execution_count": 71,
     "metadata": {},
     "output_type": "execute_result"
    }
   ],
   "source": [
    "# driver.find_element_by_xpath('//*[@id=\"60d4fd73a6130\"]/p/span').get_attribute('innerHTML')"
   ]
  },
  {
   "cell_type": "code",
   "execution_count": 72,
   "id": "1916fd30",
   "metadata": {},
   "outputs": [],
   "source": [
    "# import time"
   ]
  },
  {
   "cell_type": "code",
   "execution_count": null,
   "id": "c5e2057b",
   "metadata": {},
   "outputs": [],
   "source": []
  },
  {
   "cell_type": "code",
   "execution_count": null,
   "id": "66863bb6",
   "metadata": {},
   "outputs": [],
   "source": []
  },
  {
   "cell_type": "code",
   "execution_count": null,
   "id": "5fb93bf2",
   "metadata": {},
   "outputs": [],
   "source": []
  },
  {
   "cell_type": "code",
   "execution_count": 47,
   "id": "dd328348",
   "metadata": {},
   "outputs": [
    {
     "data": {
      "text/plain": [
       "'Physician Leadership Virtual ForumThe Business of Dentistry Virtual ForumNursing Leadership Virtual ForumCardiology Virtual ForumData + Innovation Virtual Event The Shift to Digital Virtual EventLaboratory Virtual Forum'"
      ]
     },
     "execution_count": 47,
     "metadata": {},
     "output_type": "execute_result"
    }
   ],
   "source": [
    "# str(soup.text)[3022:].split('Past Virtual EventsFeatured Sessions OnDemand')[0]#.find('Physician Leadership Virtual')"
   ]
  },
  {
   "cell_type": "code",
   "execution_count": 36,
   "id": "7404759a",
   "metadata": {},
   "outputs": [
    {
     "name": "stderr",
     "output_type": "stream",
     "text": [
      "C:\\Users\\DELL\\AppData\\Local\\Temp/ipykernel_12100/2017789850.py:1: DeprecationWarning: find_elements_by_* commands are deprecated. Please use find_elements() instead\n",
      "  driver.find_elements_by_xpath(\"/html/body/div/div[2]/div[4]/div[1]/div/div[2]/div[1]/iframe\").element\n"
     ]
    },
    {
     "ename": "AttributeError",
     "evalue": "'list' object has no attribute 'element'",
     "output_type": "error",
     "traceback": [
      "\u001b[1;31m---------------------------------------------------------------------------\u001b[0m",
      "\u001b[1;31mAttributeError\u001b[0m                            Traceback (most recent call last)",
      "\u001b[1;32m~\\AppData\\Local\\Temp/ipykernel_12100/2017789850.py\u001b[0m in \u001b[0;36m<module>\u001b[1;34m\u001b[0m\n\u001b[1;32m----> 1\u001b[1;33m \u001b[0mdriver\u001b[0m\u001b[1;33m.\u001b[0m\u001b[0mfind_elements_by_xpath\u001b[0m\u001b[1;33m(\u001b[0m\u001b[1;34m\"/html/body/div/div[2]/div[4]/div[1]/div/div[2]/div[1]/iframe\"\u001b[0m\u001b[1;33m)\u001b[0m\u001b[1;33m.\u001b[0m\u001b[0melement\u001b[0m\u001b[1;33m\u001b[0m\u001b[1;33m\u001b[0m\u001b[0m\n\u001b[0m",
      "\u001b[1;31mAttributeError\u001b[0m: 'list' object has no attribute 'element'"
     ]
    }
   ],
   "source": [
    "# driver.find_elements_by_xpath(\"/html/body/div/div[2]/div[4]/div[1]/div/div[2]/div[1]/iframe\")"
   ]
  },
  {
   "cell_type": "code",
   "execution_count": 23,
   "id": "143a0bfa",
   "metadata": {},
   "outputs": [],
   "source": [
    "# body.find('body')"
   ]
  },
  {
   "cell_type": "code",
   "execution_count": null,
   "id": "f0952e35",
   "metadata": {},
   "outputs": [],
   "source": []
  }
 ],
 "metadata": {
  "kernelspec": {
   "display_name": "Python 3 (ipykernel)",
   "language": "python",
   "name": "python3"
  },
  "language_info": {
   "codemirror_mode": {
    "name": "ipython",
    "version": 3
   },
   "file_extension": ".py",
   "mimetype": "text/x-python",
   "name": "python",
   "nbconvert_exporter": "python",
   "pygments_lexer": "ipython3",
   "version": "3.9.4"
  }
 },
 "nbformat": 4,
 "nbformat_minor": 5
}
