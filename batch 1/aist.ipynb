{
 "cells": [
  {
   "cell_type": "code",
   "execution_count": null,
   "id": "ae7f74ea",
   "metadata": {},
   "outputs": [],
   "source": []
  },
  {
   "cell_type": "code",
   "execution_count": 1,
   "id": "6328f119",
   "metadata": {},
   "outputs": [],
   "source": [
    "# -*- coding: utf-8 -*-\n",
    "\"\"\"\n",
    "Created on Tue Feb  8 15:45:44 2022\n",
    "\n",
    "@author: ChewingGumKing_OJF\n",
    "\"\"\"\n",
    "\n",
    "#loads necessary libraries\n",
    "from selenium import webdriver\n",
    "import time\n",
    "from selenium.webdriver.common.keys import Keys \n",
    "from selenium.webdriver.common.action_chains import ActionChains\n",
    "from selenium.webdriver.common.keys import Keys\n",
    "import os\n",
    "from datetime import datetime\n",
    "from datetime import date\n",
    "import openpyxl\n",
    "from selenium.webdriver.common.action_chains import ActionChains\n",
    "import os\n",
    "import warnings\n",
    "import json\n",
    "import pandas as pd\n",
    "import pyperclip as pc\n",
    "from bs4 import BeautifulSoup as bs\n",
    "import re\n",
    "from random import randint\n",
    "from selenium.common.exceptions import TimeoutException\n",
    "from selenium.common.exceptions import NoSuchElementException\n",
    "from selenium.common.exceptions import WebDriverException\n",
    "from selenium.webdriver.support.ui import WebDriverWait\n",
    "from selenium.webdriver.support import expected_conditions as EC\n",
    "from selenium.webdriver.common.by import By\n",
    "warnings.filterwarnings(\"ignore\")\n"
   ]
  },
  {
   "cell_type": "code",
   "execution_count": 12,
   "id": "477fef88",
   "metadata": {},
   "outputs": [],
   "source": [
    "driver.get(RL)"
   ]
  },
  {
   "cell_type": "code",
   "execution_count": 2,
   "id": "8bee3d06",
   "metadata": {},
   "outputs": [],
   "source": [
    "#open a new window, load the website and logs in\n",
    "\n",
    "driver = webdriver.Chrome(r'C:\\Users\\840 g3\\Desktop\\chromedriver.exe')\n",
    "\n",
    "\n",
    "RL = \"https://www.aist.org/calendar\"\n",
    "driver.get(RL)\n",
    "try:\n",
    "    driver.maximize_window()\n",
    "except:\n",
    "    pass"
   ]
  },
  {
   "cell_type": "code",
   "execution_count": null,
   "id": "7f85ff56",
   "metadata": {},
   "outputs": [],
   "source": []
  },
  {
   "cell_type": "code",
   "execution_count": 3,
   "id": "97279d69",
   "metadata": {},
   "outputs": [],
   "source": [
    "li = driver.find_element_by_id('pagination').get_attribute('outerHTML')\n",
    "soup_li = bs(li,'lxml')"
   ]
  },
  {
   "cell_type": "code",
   "execution_count": 11,
   "id": "a8617449",
   "metadata": {},
   "outputs": [
    {
     "data": {
      "text/plain": [
       "'Webinar'"
      ]
     },
     "execution_count": 11,
     "metadata": {},
     "output_type": "execute_result"
    }
   ],
   "source": []
  },
  {
   "cell_type": "code",
   "execution_count": null,
   "id": "b0443450",
   "metadata": {
    "collapsed": true
   },
   "outputs": [],
   "source": []
  },
  {
   "cell_type": "code",
   "execution_count": 4,
   "id": "9e37163c",
   "metadata": {},
   "outputs": [],
   "source": [
    "num_of_links = len(soup_li.find_all('li'))"
   ]
  },
  {
   "cell_type": "code",
   "execution_count": null,
   "id": "a977fbdb",
   "metadata": {},
   "outputs": [],
   "source": []
  },
  {
   "cell_type": "code",
   "execution_count": 5,
   "id": "15a41d53",
   "metadata": {},
   "outputs": [],
   "source": [
    "li_xpath = f'//*[@id=\"pagination\"]/li[{num_of_links}]'\n"
   ]
  },
  {
   "cell_type": "code",
   "execution_count": 6,
   "id": "cc838e08",
   "metadata": {},
   "outputs": [],
   "source": [
    "import time"
   ]
  },
  {
   "cell_type": "code",
   "execution_count": 13,
   "id": "4ed6ff6b",
   "metadata": {},
   "outputs": [],
   "source": [
    "aist=[]\n",
    "# for i in range(num_of_links-2):\n",
    "#     time.sleep(5)\n",
    "table = driver.find_element_by_tag_name('table').get_attribute('outerHTML')\n",
    "# html = driver.find_element_by_class_name('tribe-events-pro-photo').get_attribute('outerHTML')\n",
    "    \n",
    "# soup = bs(html,'lxml')\n",
    "# article = soup.find_all('article')\n",
    "body=driver.find_element_by_tag_name('tbody').get_attribute('outerHTML')\n",
    "soup = bs(body,'lxml')\n",
    "rows=soup.find_all('tr')\n",
    "for ri in rows[6:7]:\n",
    "    try:\n",
    "        web=ri.find('a')['href']\n",
    "    except:\n",
    "        web=''\n",
    "    if web=='':\n",
    "        link=''\n",
    "    else:\n",
    "        link='https://www.aist.org'+web\n",
    "    ###########################################\n",
    "    try:\n",
    "        title=ri.find('h5').text\n",
    "    except:\n",
    "        title=''\n",
    "        \n",
    "    try:\n",
    "        dat=ri.find('td',{'class':'cal-date expand'}).text.replace('\\n','').strip()\n",
    "    except:\n",
    "        dat=''\n",
    "    if dat=='':\n",
    "        start_date=end_date=''\n",
    "    else:\n",
    "        if '-' in dat:\n",
    "            tum=dat.split('-')\n",
    "            shev=[q.strip() for q in tum]\n",
    "            if len(shev[0])<=2:\n",
    "                tus=shev[0]+' '+shev[1].split(' ')[1]+' '+shev[1].split(' ')[2]\n",
    "            elif 2<len(shev[0])<=6:\n",
    "                tus=shev[0]+' '+shev[1].split(' ')[2]\n",
    "            else:\n",
    "                tus=shev[0]\n",
    "            duo=[tus, shev[1]]\n",
    "\n",
    "\n",
    "        else:\n",
    "            duo=[dat, dat]\n",
    "\n",
    "        duet=[datetime.strptime(pi, '%d %b %Y').strftime('%Y-%m-%d') for pi in duo]\n",
    "        \n",
    "        start_date=duet[0]\n",
    "        end_date=duet[1]\n",
    "        \n",
    "    ######################################\n",
    "    loca=str(ri).split('<td')[-2].replace('<','>').split('>')[-3]\n",
    "    if ('Online' or 'Web' or 'Webinar' or 'Virtual') in loca:\n",
    "        on_off='1'\n",
    "    elif loca=='Webinar':\n",
    "        on_off='1'\n",
    "    elif loca=='Online':\n",
    "        on_off='1'\n",
    "    elif loca=='':\n",
    "        on_off='1'\n",
    "    else:\n",
    "        on_off='0'\n",
    "    #####################################\n",
    "    def country(locale):\n",
    "        try:\n",
    "            google_url_for_location=\"https://www.google.com/search?q=\"+locale+\"&oq=\"+locale+\"&num=1\"\n",
    "            time.sleep(randint(0,3))\n",
    "            driver.get(google_url_for_location)\n",
    "            time.sleep(4)\n",
    "            google_map_url=driver.find_element_by_id('lu_map').click()\n",
    "            time.sleep(1)\n",
    "            country=driver.find_element_by_class_name('x3AX1-LfntMc-header-title-VdSJob').text\n",
    "            return(country)\n",
    "        except Exception as e:\n",
    "            print(e)\n",
    "            return(\"\")\n",
    "    \n",
    "    ####################################\n",
    "    def get_google_map_url(location):\n",
    "        try:\n",
    "            google_url_for_location=\"https://www.google.com/search?q=\"+location+\"&oq=\"+location+\"&num=1\"\n",
    "            time.sleep(randint(0,3))\n",
    "            driver.get(google_url_for_location)\n",
    "            time.sleep(4)\n",
    "            google_map_url=driver.find_element_by_id('lu_map').click()\n",
    "            time.sleep(1)\n",
    "            google_map_url=driver.current_url\n",
    "            return(google_map_url)\n",
    "        except Exception as e:\n",
    "            print(e)\n",
    "            return(\"\")\n",
    "    ######################################\n",
    "    if on_off=='1':\n",
    "        city=''\n",
    "        venue=''\n",
    "    else:\n",
    "        city=loca\n",
    "        venue=loca\n",
    "    if city=='':\n",
    "        country=''\n",
    "        googlePlaceUrl=''\n",
    "    else:\n",
    "        country=country(city)\n",
    "        googlePlaceUrl=get_google_map_url(city)\n",
    "    org_pro=''    \n",
    "    org_web='https://www.aist.org/'\n",
    "    try:\n",
    "        org_name=str(ri).split('<td')[-1].replace('<','>').split('>')[1].strip()\n",
    "    except:\n",
    "        org_name='Association for Iron & Steel Technology'\n",
    "    mail_='memberservices@aist.org'\n",
    "    agendalist=''\n",
    "    type_=''\n",
    "    category=''\n",
    "    event_web=link\n",
    "    Speakerlist=''\n",
    "    time_=''\n",
    "    event_info=''\n",
    "    ticket_list=''\n",
    "    logo=''\n",
    "    sponsor=''\n",
    "    \n",
    "    \n",
    "    \n",
    "    aist.append([link,title,start_date,end_date,time_,event_info,ticket_list,\n",
    "                 org_pro,org_name,org_web,logo,sponsor,agendalist,\n",
    "                 type_,category,city,country,venue,event_web,googlePlaceUrl,mail_,\n",
    "                 Speakerlist,on_off])\n",
    "#     df = pd.read_html(table)[0]\n",
    "#     driver.find_element_by_xpath(li_xpath).click()\n",
    "#     data.append(df)#,ignore_index=False)\n",
    "#     time.sleep(2)"
   ]
  },
  {
   "cell_type": "code",
   "execution_count": null,
   "id": "e6566de4",
   "metadata": {},
   "outputs": [],
   "source": []
  },
  {
   "cell_type": "code",
   "execution_count": 8,
   "id": "7b58cbc4",
   "metadata": {},
   "outputs": [],
   "source": [
    "aist_dict=aist\n",
    "\n",
    "\n",
    "aist_df= pd.DataFrame(columns=['scrappedUrl','eventname','startdate','enddate','timing','eventinfo','ticketlist','orgProfile','orgName','orgWeb','logo','sponsor','agendalist','type','category','city','country','venue','event_website','googlePlaceUrl','ContactMail','Speakerlist','online_event'],data=aist_dict)\n",
    "aist_df.to_csv(\"aist.tsv\", sep = '\\t',index=False)\n"
   ]
  },
  {
   "cell_type": "code",
   "execution_count": null,
   "id": "3f4da63c",
   "metadata": {},
   "outputs": [],
   "source": []
  },
  {
   "cell_type": "code",
   "execution_count": null,
   "id": "79b55e95",
   "metadata": {},
   "outputs": [],
   "source": []
  }
 ],
 "metadata": {
  "kernelspec": {
   "display_name": "Python 3 (ipykernel)",
   "language": "python",
   "name": "python3"
  },
  "language_info": {
   "codemirror_mode": {
    "name": "ipython",
    "version": 3
   },
   "file_extension": ".py",
   "mimetype": "text/x-python",
   "name": "python",
   "nbconvert_exporter": "python",
   "pygments_lexer": "ipython3",
   "version": "3.9.7"
  }
 },
 "nbformat": 4,
 "nbformat_minor": 5
}
